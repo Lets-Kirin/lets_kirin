{
 "cells": [
  {
   "cell_type": "code",
   "execution_count": 6,
   "metadata": {},
   "outputs": [
    {
     "name": "stdout",
     "output_type": "stream",
     "text": [
      "\n",
      "        SELECT courseNumber, sectionNumber, courseName, courseClassification, courseDescription, professorName, courseDay, courseTime, credits\n",
      "        FROM courses\n",
      "        WHERE\n",
      "        (\n",
      "        (\n",
      "            yearSemester='2'\n",
      "            AND courseClassification NOT IN ('전선', '전필', '공필')\n",
      "            AND courseName IN ('미적분학1', '공업수학1', '선형대수', '일반물리및시뮬레이션', '이산수학및프로그래밍', '통계학개론')\n",
      "        )\n",
      "        OR\n",
      "        (\n",
      "            department_major='소프트웨어학과'\n",
      "            AND yearSemester='2'\n",
      "        )\n",
      "        )\n",
      "        AND NOT (\n",
      "                courseDay LIKE '%목%'\n",
      "                AND STR_TO_DATE(SUBSTRING_INDEX(courseTime, '-', -1), '%H:%i') > STR_TO_DATE('9:00', '%H:%i')\n",
      "                AND STR_TO_DATE(SUBSTRING_INDEX(courseTime, '-', 1), '%H:%i') < STR_TO_DATE('11:00', '%H:%i')\n",
      "            )AND NOT (\n",
      "                (courseDay LIKE '%수%'\n",
      "                OR courseDay LIKE '%금%')\n",
      "                AND STR_TO_DATE(SUBSTRING_INDEX(courseTime, '-', -1), '%H:%i') > STR_TO_DATE('10:30', '%H:%i')\n",
      "                AND STR_TO_DATE(SUBSTRING_INDEX(courseTime, '-', 1), '%H:%i') < STR_TO_DATE('12:00', '%H:%i')\n",
      "            )\n",
      "AND courseDay NOT Like '%금%'\n",
      "        \n",
      "\n",
      "        SELECT courseNumber, sectionNumber, courseName, professorName, courseDescription\n",
      "        FROM courses\n",
      "        WHERE\n",
      "            (\n",
      "                courseName = '서양철학의이해'\n",
      "                AND courseNumber = '009357'\n",
      "                AND sectionNumber = '1'\n",
      "                AND professorName = 'David M Hindman'\n",
      "            )\n",
      "           \n"
     ]
    }
   ],
   "source": [
    "from utils import QueryLoader\n",
    "dummy = {\n",
    "\t\"coursePriority\" :\n",
    "\t[\n",
    "\t\t{\n",
    "\t\t\t\"courseName\" : \"서양철학의이해\",\n",
    "\t\t\t\"courseNumber\" : \"009357\",\n",
    "            \"sectionNumber\" : \"1\",\n",
    "\t\t\t\"professorName\" : \"David M Hindman\",\n",
    "\t\t\t\"courseTime\" : \"10:30-12:00\",\n",
    "\t\t\t\"courseDay\" : \"수금\",\n",
    "            \"credit\" : 3\n",
    "\t\t},\n",
    "\t\t# {\n",
    "\t\t# \t\"courseName\" : \"한국전통문화의이해\",\n",
    "\t\t# \t\"courseNumber\" : \"009356\",\n",
    "        #     \"sectionNumber\" : \"3\",\n",
    "\t\t# \t\"professorName\" : \"시지은\",\n",
    "\t\t# \t\"courseTime\" : \"15:00-16:30\",\n",
    "\t\t# \t\"courseDay\" : \"월수\",\n",
    "        #     \"credit\" : 3\n",
    "\t\t# }\n",
    "\t],\n",
    "\n",
    "\t\"timeoff\" :\n",
    "\t[\n",
    "\t\t{\n",
    "\t\t\t\"day\" : \"목\",\n",
    "\t\t\t\"time\" : \"9:00-11:00\"\n",
    "\t\t}\n",
    "\t],\n",
    "\n",
    "        \"dayoff\" : [\"금\"],\n",
    "        \"department\" : \"소프트웨어학과\",\n",
    "        \"semester\" : 2,\n",
    "        \"credit\" : 15\n",
    "}\n",
    "\n",
    "loader = QueryLoader(dummy['coursePriority'], dummy['timeoff'], dummy['dayoff'], dummy['department'], dummy['semester'])\n",
    "print(loader.main_query)\n",
    "print(loader.priority_course_query)\n"
   ]
  },
  {
   "cell_type": "code",
   "execution_count": 7,
   "metadata": {},
   "outputs": [
    {
     "name": "stdout",
     "output_type": "stream",
     "text": [
      "(('009956', 2, '문제해결및실습:JAVA', '전선', '이 수업은 JAVA를 사용하여 문제를 해결하는 방법을 학습하고, 프로그래밍 실습을 통해 실력을 향상시키는 과정입니다. JAVA를 활용하여 다양한 문제를 해결하는 능력을 키워줄 것입니다.', '박상일', '월수', '15:00-16:30', 3), ('009956', 1, '문제해결및실습:JAVA', '전선', '이 수업은 JAVA를 사용하여 문제를 해결하는 방법을 학습하고, 프로그래밍 실습을 통해 실력을 향상시키는 과정입니다. JAVA를 활용하여 다양한 문제를 해결하는 능력을 키워줄 것입니다.', '박상일', '월수', '13:30-15:00', 3), ('009955', 2, '이산수학및프로그래밍', '전선', '이산수학과 프로그래밍을 통해 수리적인 사고와 알고리즘 개발 능력을 함양하는 수업입니다. 이론과 실무를 결합하여 다양한 문제를 해결하는 능력을 키우는 과목입니다.', '이은상', '월수', '12:00-13:30', 3), ('009993', 2, 'SW설계기초(산학프로젝트입문)', '전필', '소프트웨어 설계의 기초를 학습하며 산업계에서의 프로젝트에 대한 입문을 경험하는 수업입니다. 실무에서 활용되는 SW 설계 방법론과 프로젝트 관리 기술을 습득하고자 하는 학생들을 위한 과목입니다.', '정승화', '화목', '16:30-18:00', 3), ('009993', 1, 'SW설계기초(산학프로젝트입문)', '전필', '소프트웨어 설계의 기초를 학습하며 산업계에서의 프로젝트에 대한 입문을 경험하는 수업입니다. 실무에서 활용되는 SW 설계 방법론과 프로젝트 관리 기술을 습득하고자 하는 학생들을 위한 과목입니다.', '정승화', '화목', '15:00-16:30', 3), ('009954', 2, '알고리즘및실습', '전필', '이 수업은 알고리즘 이론을 학습하고 다양한 문제에 적용하는데 초점을 맞춥니다. 학생들은 이론을 바탕으로 실제 코딩 실습을 통해 문제 해결 능력을 향상시킬 수 있습니다.', '송오영', '수', '16:30-18:30', 3), ('009954', 1, '알고리즘및실습', '전필', '이 수업은 알고리즘 이론을 학습하고 다양한 문제에 적용하는데 초점을 맞춥니다. 학생들은 이론을 바탕으로 실제 코딩 실습을 통해 문제 해결 능력을 향상시킬 수 있습니다.', '송오영', '월', '16:30-18:30', 3), ('003278', 2, '컴퓨터구조', '전필', '컴퓨터구조 수업은 컴퓨터 시스템의 구성과 동작 방식을 이해하고, 하드웨어와 소프트웨어 간의 상호작용을 학습하는 과목입니다. 이 수업을 통해 컴퓨터의 기본적인 동작 원리를 파악하고 시스템을 최적화하는 방법을 습득할 수 있습니다.', '정승화', '월수', '13:30-15:00', 3), ('003278', 1, '컴퓨터구조', '전필', '컴퓨터구조 수업은 컴퓨터 시스템의 구성과 동작 방식을 이해하고, 하드웨어와 소프트웨어 간의 상호작용을 학습하는 과목입니다. 이 수업을 통해 컴퓨터의 기본적인 동작 원리를 파악하고 시스템을 최적화하는 방법을 습득할 수 있습니다.', '정승화', '월수', '12:00-13:30', 3), ('009961', 2, '선형대수및프로그래밍', '전선', '선형대수를 기반으로 하는 프로그래밍 기술을 학습하여 데이터 분석 및 머신러닝 분야에서의 문제 해결 능력을 향상시키는 수업입니다. 이론과 실습을 통해 선형대수의 개념을 이해하고 프로그래밍을 통해 응용하는 방법을 배울 수 있습니다.', '이종원', '화목', '13:30-15:00', 3), ('009961', 1, '선형대수및프로그래밍', '전선', '선형대수를 기반으로 하는 프로그래밍 기술을 학습하여 데이터 분석 및 머신러닝 분야에서의 문제 해결 능력을 향상시키는 수업입니다. 이론과 실습을 통해 선형대수의 개념을 이해하고 프로그래밍을 통해 응용하는 방법을 배울 수 있습니다.', '이종원', '화목', '12:00-13:30', 3), ('003353', 1, '통계학개론', '기필', '통계학개론은 데이터를 수집, 분석하고 해석하는 기초적인 통계 지식을 다루는 수업입니다. 주어진 자료를 효율적으로 다루어 의사 결정을 내릴 수 있는 능력을 키웁니다.', '김계완', '월수', '09:00-10:30', 3), ('003353', 3, '통계학개론', '기필', '통계학개론은 데이터를 수집, 분석하고 해석하는 기초적인 통계 지식을 다루는 수업입니다. 주어진 자료를 효율적으로 다루어 의사 결정을 내릴 수 있는 능력을 키웁니다.', '정슬기', '화목', '13:30-15:00', 3))\n"
     ]
    }
   ],
   "source": [
    "import os\n",
    "import pymysql\n",
    "from dotenv import load_dotenv\n",
    "load_dotenv()\n",
    "connection = pymysql.connect(\n",
    "    host=os.getenv('DB_HOST'),\n",
    "    port=int(os.getenv('DB_PORT')),\n",
    "    user=os.getenv('DB_USER'),\n",
    "    password=os.getenv('DB_PASSWORD'),\n",
    "    db=os.getenv('DB_NAME')\n",
    ")\n",
    "cursor = connection.cursor()\n",
    "\n",
    "\n",
    "department_filter_query = f\"SELECT *FROM taken_courses\"\n",
    "cursor.execute(loader.main_query)\n",
    "data = cursor.fetchall()\n",
    "print(data)"
   ]
  },
  {
   "cell_type": "code",
   "execution_count": 10,
   "metadata": {},
   "outputs": [
    {
     "name": "stdout",
     "output_type": "stream",
     "text": [
      "('009956', 2, '문제해결및실습:JAVA', '전선', '이 수업은 JAVA를 사용하여 문제를 해결하는 방법을 학습하고, 프로그래밍 실습을 통해 실력을 향상시키는 과정입니다. JAVA를 활용하여 다양한 문제를 해결하는 능력을 키워줄 것입니다.', '박상일', '월수', '15:00-16:30', 3)\n",
      "('009956', 1, '문제해결및실습:JAVA', '전선', '이 수업은 JAVA를 사용하여 문제를 해결하는 방법을 학습하고, 프로그래밍 실습을 통해 실력을 향상시키는 과정입니다. JAVA를 활용하여 다양한 문제를 해결하는 능력을 키워줄 것입니다.', '박상일', '월수', '13:30-15:00', 3)\n",
      "('009955', 2, '이산수학및프로그래밍', '전선', '이산수학과 프로그래밍을 통해 수리적인 사고와 알고리즘 개발 능력을 함양하는 수업입니다. 이론과 실무를 결합하여 다양한 문제를 해결하는 능력을 키우는 과목입니다.', '이은상', '월수', '12:00-13:30', 3)\n",
      "('009993', 2, 'SW설계기초(산학프로젝트입문)', '전필', '소프트웨어 설계의 기초를 학습하며 산업계에서의 프로젝트에 대한 입문을 경험하는 수업입니다. 실무에서 활용되는 SW 설계 방법론과 프로젝트 관리 기술을 습득하고자 하는 학생들을 위한 과목입니다.', '정승화', '화목', '16:30-18:00', 3)\n",
      "('009993', 1, 'SW설계기초(산학프로젝트입문)', '전필', '소프트웨어 설계의 기초를 학습하며 산업계에서의 프로젝트에 대한 입문을 경험하는 수업입니다. 실무에서 활용되는 SW 설계 방법론과 프로젝트 관리 기술을 습득하고자 하는 학생들을 위한 과목입니다.', '정승화', '화목', '15:00-16:30', 3)\n",
      "('009954', 2, '알고리즘및실습', '전필', '이 수업은 알고리즘 이론을 학습하고 다양한 문제에 적용하는데 초점을 맞춥니다. 학생들은 이론을 바탕으로 실제 코딩 실습을 통해 문제 해결 능력을 향상시킬 수 있습니다.', '송오영', '수', '16:30-18:30', 3)\n",
      "('009954', 1, '알고리즘및실습', '전필', '이 수업은 알고리즘 이론을 학습하고 다양한 문제에 적용하는데 초점을 맞춥니다. 학생들은 이론을 바탕으로 실제 코딩 실습을 통해 문제 해결 능력을 향상시킬 수 있습니다.', '송오영', '월', '16:30-18:30', 3)\n",
      "('003278', 2, '컴퓨터구조', '전필', '컴퓨터구조 수업은 컴퓨터 시스템의 구성과 동작 방식을 이해하고, 하드웨어와 소프트웨어 간의 상호작용을 학습하는 과목입니다. 이 수업을 통해 컴퓨터의 기본적인 동작 원리를 파악하고 시스템을 최적화하는 방법을 습득할 수 있습니다.', '정승화', '월수', '13:30-15:00', 3)\n",
      "('003278', 1, '컴퓨터구조', '전필', '컴퓨터구조 수업은 컴퓨터 시스템의 구성과 동작 방식을 이해하고, 하드웨어와 소프트웨어 간의 상호작용을 학습하는 과목입니다. 이 수업을 통해 컴퓨터의 기본적인 동작 원리를 파악하고 시스템을 최적화하는 방법을 습득할 수 있습니다.', '정승화', '월수', '12:00-13:30', 3)\n",
      "('009961', 2, '선형대수및프로그래밍', '전선', '선형대수를 기반으로 하는 프로그래밍 기술을 학습하여 데이터 분석 및 머신러닝 분야에서의 문제 해결 능력을 향상시키는 수업입니다. 이론과 실습을 통해 선형대수의 개념을 이해하고 프로그래밍을 통해 응용하는 방법을 배울 수 있습니다.', '이종원', '화목', '13:30-15:00', 3)\n",
      "('009961', 1, '선형대수및프로그래밍', '전선', '선형대수를 기반으로 하는 프로그래밍 기술을 학습하여 데이터 분석 및 머신러닝 분야에서의 문제 해결 능력을 향상시키는 수업입니다. 이론과 실습을 통해 선형대수의 개념을 이해하고 프로그래밍을 통해 응용하는 방법을 배울 수 있습니다.', '이종원', '화목', '12:00-13:30', 3)\n",
      "('003353', 1, '통계학개론', '기필', '통계학개론은 데이터를 수집, 분석하고 해석하는 기초적인 통계 지식을 다루는 수업입니다. 주어진 자료를 효율적으로 다루어 의사 결정을 내릴 수 있는 능력을 키웁니다.', '김계완', '월수', '09:00-10:30', 3)\n",
      "('003353', 3, '통계학개론', '기필', '통계학개론은 데이터를 수집, 분석하고 해석하는 기초적인 통계 지식을 다루는 수업입니다. 주어진 자료를 효율적으로 다루어 의사 결정을 내릴 수 있는 능력을 키웁니다.', '정슬기', '화목', '13:30-15:00', 3)\n"
     ]
    }
   ],
   "source": [
    "for row in data:\n",
    "    print(row)"
   ]
  },
  {
   "cell_type": "code",
   "execution_count": null,
   "metadata": {},
   "outputs": [],
   "source": [
    "pip install uvicorn\n",
    "pip install python-dotenv\n",
    "pip install fastapi\n",
    "pip install pymysql\n",
    "pip install langchain"
   ]
  },
  {
   "cell_type": "code",
   "execution_count": 1,
   "metadata": {},
   "outputs": [
    {
     "name": "stdout",
     "output_type": "stream",
     "text": [
      "Based on the provided competencies scores:\n",
      "\n",
      "1. AI Capabilities Score: 9\n",
      "2. Language Capabilities Score: 7 (Improvement Area)\n",
      "3. Server Capabilities Score: 6 (Improvement Area)\n",
      "4. Computer Science Capabilities Score: 5 (Improvement Area)\n",
      "5. Data Science Capabilities Score: 6 (Improvement Area)\n",
      "6. Algorithm Capabilities Score: 7 (Improvement Area)\n",
      "\n",
      "Here are tailored recommendations for improvement in each area:\n",
      "\n",
      "1. Language Capabilities Score (7):\n",
      "   - Strengthen text processing skills and natural language understanding.\n",
      "   - Focus on learning NLP applications and text tokenization using libraries like NLTK or spaCy.\n",
      "   - Practice on projects involving sentiment analysis or text classification.\n",
      "\n",
      "2. Server Capabilities Score (6):\n",
      "   - Improve server management and networking basics.\n",
      "   - Utilize online labs on AWS or Google Cloud for practical experience in server setup and network configuration.\n",
      "   - Study HTTP protocols and basic security measures through platforms like Udacity.\n",
      "\n",
      "3. Computer Science Capabilities Score (5):\n",
      "   - Enhance knowledge in data structures and fundamental programming principles.\n",
      "   - Complete exercises on platforms like LeetCode or HackerRank to strengthen algorithmic skills.\n",
      "   - Review algorithms and data structures through video tutorials on fundamental concepts.\n",
      "\n",
      "4. Data Science Capabilities Score (6):\n",
      "   - Develop a deeper understanding of data analysis and visualization techniques.\n",
      "   - Consider taking courses on platforms like DataCamp or edX focusing on statistics, data cleaning, and visualization in Python.\n",
      "   - Practice analyzing datasets on platforms like Kaggle to build practical data science skills.\n",
      "\n",
      "By focusing on these specific areas for improvement, you can enhance the overall capabilities of the software and become more proficient in various aspects of AI, language processing, server management, computer science, data science, and algorithms.\n"
     ]
    }
   ],
   "source": [
    "a=\"Based on the provided competencies scores:\\n\\n1. AI Capabilities Score: 9\\n2. Language Capabilities Score: 7 (Improvement Area)\\n3. Server Capabilities Score: 6 (Improvement Area)\\n4. Computer Science Capabilities Score: 5 (Improvement Area)\\n5. Data Science Capabilities Score: 6 (Improvement Area)\\n6. Algorithm Capabilities Score: 7 (Improvement Area)\\n\\nHere are tailored recommendations for improvement in each area:\\n\\n1. Language Capabilities Score (7):\\n   - Strengthen text processing skills and natural language understanding.\\n   - Focus on learning NLP applications and text tokenization using libraries like NLTK or spaCy.\\n   - Practice on projects involving sentiment analysis or text classification.\\n\\n2. Server Capabilities Score (6):\\n   - Improve server management and networking basics.\\n   - Utilize online labs on AWS or Google Cloud for practical experience in server setup and network configuration.\\n   - Study HTTP protocols and basic security measures through platforms like Udacity.\\n\\n3. Computer Science Capabilities Score (5):\\n   - Enhance knowledge in data structures and fundamental programming principles.\\n   - Complete exercises on platforms like LeetCode or HackerRank to strengthen algorithmic skills.\\n   - Review algorithms and data structures through video tutorials on fundamental concepts.\\n\\n4. Data Science Capabilities Score (6):\\n   - Develop a deeper understanding of data analysis and visualization techniques.\\n   - Consider taking courses on platforms like DataCamp or edX focusing on statistics, data cleaning, and visualization in Python.\\n   - Practice analyzing datasets on platforms like Kaggle to build practical data science skills.\\n\\nBy focusing on these specific areas for improvement, you can enhance the overall capabilities of the software and become more proficient in various aspects of AI, language processing, server management, computer science, data science, and algorithms.\"\n",
    "print(a)"
   ]
  },
  {
   "cell_type": "code",
   "execution_count": null,
   "metadata": {},
   "outputs": [],
   "source": []
  }
 ],
 "metadata": {
  "kernelspec": {
   "display_name": "llama",
   "language": "python",
   "name": "python3"
  },
  "language_info": {
   "codemirror_mode": {
    "name": "ipython",
    "version": 3
   },
   "file_extension": ".py",
   "mimetype": "text/x-python",
   "name": "python",
   "nbconvert_exporter": "python",
   "pygments_lexer": "ipython3",
   "version": "3.9.20"
  }
 },
 "nbformat": 4,
 "nbformat_minor": 2
}
