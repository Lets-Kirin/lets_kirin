{
 "cells": [
  {
   "cell_type": "code",
   "execution_count": null,
   "metadata": {},
   "outputs": [
    {
     "name": "stdout",
     "output_type": "stream",
     "text": [
      "\n",
      "        SELECT courseNumber, sectionNumber, courseName, courseClassification, courseDescription, professorName, courseDay, courseTime, credits\n",
      "        FROM courses\n",
      "        WHERE\n",
      "        (\n",
      "        (\n",
      "            yearSemester='1'\n",
      "            AND courseClassification NOT IN ('전선', '전필', '공필')\n",
      "            AND courseName IN ('미적분학1', '공업수학1', '선형대수', '일반물리및시뮬레이션', '이산수학및프로그래밍', '통계학개론')\n",
      "        )\n",
      "        OR\n",
      "        (\n",
      "            department_major='소프트웨어학과'\n",
      "            AND yearSemester='1'\n",
      "        )\n",
      "        )\n",
      "        AND NOT (\n",
      "                courseDay LIKE '%목%'\n",
      "                AND STR_TO_DATE(SUBSTRING_INDEX(courseTime, '-', -1), '%H:%i') > STR_TO_DATE('9:00', '%H:%i')\n",
      "                AND STR_TO_DATE(SUBSTRING_INDEX(courseTime, '-', 1), '%H:%i') < STR_TO_DATE('11:00', '%H:%i')\n",
      "            )AND NOT (\n",
      "                (courseDay LIKE '%수%'\n",
      "                OR courseDay LIKE '%금%')\n",
      "                AND STR_TO_DATE(SUBSTRING_INDEX(courseTime, '-', -1), '%H:%i') > STR_TO_DATE('10:30', '%H:%i')\n",
      "                AND STR_TO_DATE(SUBSTRING_INDEX(courseTime, '-', 1), '%H:%i') < STR_TO_DATE('12:00', '%H:%i')\n",
      "            )AND NOT (\n",
      "                (courseDay LIKE '%월%'\n",
      "                OR courseDay LIKE '%수%')\n",
      "                AND STR_TO_DATE(SUBSTRING_INDEX(courseTime, '-', -1), '%H:%i') > STR_TO_DATE('15:00', '%H:%i')\n",
      "                AND STR_TO_DATE(SUBSTRING_INDEX(courseTime, '-', 1), '%H:%i') < STR_TO_DATE('16:30', '%H:%i')\n",
      "            )\n",
      "AND courseDay NOT Like '%화%'\n",
      "        \n",
      "\n",
      "        SELECT courseNumber, sectionNumber, courseName, professorName, courseDescription\n",
      "        FROM courses\n",
      "        WHERE\n",
      "            (\n",
      "                courseName = '서양철학의이해'\n",
      "                AND courseNumber = '009357'\n",
      "                AND sectionNumber = '1'\n",
      "                AND professorName = 'David M Hindman'\n",
      "            )\n",
      "            OR\n",
      "            (\n",
      "                courseName = '한국전통문화의이해'\n",
      "                AND courseNumber = '009356'\n",
      "                AND sectionNumber = '3'\n",
      "                AND professorName = '시지은'\n",
      "            )\n",
      "           \n"
     ]
    }
   ],
   "source": [
    "from utils import QueryLoader\n",
    "dummy = {\n",
    "\t\"coursePriority\" :\n",
    "\t[\n",
    "\t\t{\n",
    "\t\t\t\"courseName\" : \"서양철학의이해\",\n",
    "\t\t\t\"courseNumber\" : \"009357\",\n",
    "            \"sectionNumber\" : \"1\",\n",
    "\t\t\t\"professorName\" : \"David M Hindman\",\n",
    "\t\t\t\"courseTime\" : \"10:30-12:00\",\n",
    "\t\t\t\"courseDay\" : \"수금\",\n",
    "            \"credit\" : 3\n",
    "\t\t},\n",
    "\t\t{\n",
    "\t\t\t\"courseName\" : \"한국전통문화의이해\",\n",
    "\t\t\t\"courseNumber\" : \"009356\",\n",
    "            \"sectionNumber\" : \"3\",\n",
    "\t\t\t\"professorName\" : \"시지은\",\n",
    "\t\t\t\"courseTime\" : \"15:00-16:30\",\n",
    "\t\t\t\"courseDay\" : \"월수\",\n",
    "            \"credit\" : 3\n",
    "\t\t}\n",
    "\t],\n",
    "\n",
    "\t\"timeoff\" :\n",
    "\t[\n",
    "\t\t{\n",
    "\t\t\t\"day\" : \"목\",\n",
    "\t\t\t\"time\" : \"9:00-11:00\"\n",
    "\t\t}\n",
    "\t],\n",
    "\n",
    "        \"dayoff\" : [\"화\"],\n",
    "        \"department\" : \"소프트웨어학과\",\n",
    "        \"semester\" : 1,\n",
    "        \"credit\" : 15\n",
    "}\n",
    "\n",
    "loader = QueryLoader(dummy['coursePriority'], dummy['timeoff'], dummy['dayoff'], dummy['department'], dummy['semester'])\n",
    "print(loader.main_query)\n",
    "print(loader.priority_course_query)\n"
   ]
  },
  {
   "cell_type": "code",
   "execution_count": 12,
   "metadata": {},
   "outputs": [
    {
     "name": "stdout",
     "output_type": "stream",
     "text": [
      "()\n"
     ]
    }
   ],
   "source": [
    "import os\n",
    "import pymysql\n",
    "from dotenv import load_dotenv\n",
    "load_dotenv()\n",
    "connection = pymysql.connect(\n",
    "    host=os.getenv('DB_HOST'),\n",
    "    port=int(os.getenv('DB_PORT')),\n",
    "    user=os.getenv('DB_USER'),\n",
    "    password=os.getenv('DB_PASSWORD'),\n",
    "    db=os.getenv('DB_NAME')\n",
    ")\n",
    "cursor = connection.cursor()\n",
    "\n",
    "\n",
    "department_filter_query = f\"SELECT *FROM taken_courses\"\n",
    "cursor.execute(department_filter_query)\n",
    "data = cursor.fetchall()\n",
    "print(data)"
   ]
  },
  {
   "cell_type": "code",
   "execution_count": null,
   "metadata": {},
   "outputs": [],
   "source": [
    "pip install uvicorn\n",
    "pip install python-dotenv\n",
    "pip install fastapi\n",
    "pip install pymysql\n",
    "pip install langchain"
   ]
  }
 ],
 "metadata": {
  "kernelspec": {
   "display_name": "llama",
   "language": "python",
   "name": "python3"
  },
  "language_info": {
   "codemirror_mode": {
    "name": "ipython",
    "version": 3
   },
   "file_extension": ".py",
   "mimetype": "text/x-python",
   "name": "python",
   "nbconvert_exporter": "python",
   "pygments_lexer": "ipython3",
   "version": "3.9.19"
  }
 },
 "nbformat": 4,
 "nbformat_minor": 2
}
