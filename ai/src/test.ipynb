{
 "cells": [
  {
   "cell_type": "code",
   "execution_count": 1,
   "metadata": {},
   "outputs": [
    {
     "ename": "TypeError",
     "evalue": "__init__() takes 5 positional arguments but 6 were given",
     "output_type": "error",
     "traceback": [
      "\u001b[1;31m---------------------------------------------------------------------------\u001b[0m",
      "\u001b[1;31mTypeError\u001b[0m                                 Traceback (most recent call last)",
      "Cell \u001b[1;32mIn[1], line 40\u001b[0m\n\u001b[0;32m      1\u001b[0m \u001b[38;5;28;01mfrom\u001b[39;00m \u001b[38;5;21;01mutils\u001b[39;00m \u001b[38;5;28;01mimport\u001b[39;00m QueryLoader\n\u001b[0;32m      2\u001b[0m dummy \u001b[38;5;241m=\u001b[39m {\n\u001b[0;32m      3\u001b[0m \t\u001b[38;5;124m\"\u001b[39m\u001b[38;5;124mcoursePriority\u001b[39m\u001b[38;5;124m\"\u001b[39m :\n\u001b[0;32m      4\u001b[0m \t[\n\u001b[1;32m   (...)\u001b[0m\n\u001b[0;32m     36\u001b[0m         \u001b[38;5;124m\"\u001b[39m\u001b[38;5;124mcredit\u001b[39m\u001b[38;5;124m\"\u001b[39m : \u001b[38;5;241m15\u001b[39m\n\u001b[0;32m     37\u001b[0m }\n\u001b[1;32m---> 40\u001b[0m loader \u001b[38;5;241m=\u001b[39m \u001b[43mQueryLoader\u001b[49m\u001b[43m(\u001b[49m\u001b[43mdummy\u001b[49m\u001b[43m[\u001b[49m\u001b[38;5;124;43m'\u001b[39;49m\u001b[38;5;124;43mcoursePriority\u001b[39;49m\u001b[38;5;124;43m'\u001b[39;49m\u001b[43m]\u001b[49m\u001b[43m,\u001b[49m\u001b[43m \u001b[49m\u001b[43mdummy\u001b[49m\u001b[43m[\u001b[49m\u001b[38;5;124;43m'\u001b[39;49m\u001b[38;5;124;43mtimeoff\u001b[39;49m\u001b[38;5;124;43m'\u001b[39;49m\u001b[43m]\u001b[49m\u001b[43m,\u001b[49m\u001b[43m \u001b[49m\u001b[43mdummy\u001b[49m\u001b[43m[\u001b[49m\u001b[38;5;124;43m'\u001b[39;49m\u001b[38;5;124;43mdayoff\u001b[39;49m\u001b[38;5;124;43m'\u001b[39;49m\u001b[43m]\u001b[49m\u001b[43m,\u001b[49m\u001b[43m \u001b[49m\u001b[43mdummy\u001b[49m\u001b[43m[\u001b[49m\u001b[38;5;124;43m'\u001b[39;49m\u001b[38;5;124;43mdepartment\u001b[39;49m\u001b[38;5;124;43m'\u001b[39;49m\u001b[43m]\u001b[49m\u001b[43m,\u001b[49m\u001b[43m \u001b[49m\u001b[43mdummy\u001b[49m\u001b[43m[\u001b[49m\u001b[38;5;124;43m'\u001b[39;49m\u001b[38;5;124;43msemester\u001b[39;49m\u001b[38;5;124;43m'\u001b[39;49m\u001b[43m]\u001b[49m\u001b[43m)\u001b[49m\n\u001b[0;32m     41\u001b[0m \u001b[38;5;28mprint\u001b[39m(loader\u001b[38;5;241m.\u001b[39mmain_query)\n\u001b[0;32m     42\u001b[0m \u001b[38;5;28mprint\u001b[39m(loader\u001b[38;5;241m.\u001b[39mpriority_course_query)\n",
      "\u001b[1;31mTypeError\u001b[0m: __init__() takes 5 positional arguments but 6 were given"
     ]
    }
   ],
   "source": [
    "from utils import QueryLoader\n",
    "dummy = {\n",
    "\t\"coursePriority\" :\n",
    "\t[\n",
    "\t\t{\n",
    "\t\t\t\"courseName\" : \"서양철학의이해\",\n",
    "\t\t\t\"courseNumber\" : \"009357\",\n",
    "            \"sectionNumber\" : \"1\",\n",
    "\t\t\t\"professorName\" : \"David M Hindman\",\n",
    "\t\t\t\"courseTime\" : \"10:30-12:00\",\n",
    "\t\t\t\"courseDay\" : \"수금\",\n",
    "            \"credit\" : 3\n",
    "\t\t},\n",
    "\t\t# {\n",
    "\t\t# \t\"courseName\" : \"한국전통문화의이해\",\n",
    "\t\t# \t\"courseNumber\" : \"009356\",\n",
    "        #     \"sectionNumber\" : \"3\",\n",
    "\t\t# \t\"professorName\" : \"시지은\",\n",
    "\t\t# \t\"courseTime\" : \"15:00-16:30\",\n",
    "\t\t# \t\"courseDay\" : \"월수\",\n",
    "        #     \"credit\" : 3\n",
    "\t\t# }\n",
    "\t],\n",
    "\n",
    "\t\"timeoff\" :\n",
    "\t[\n",
    "\t\t{\n",
    "\t\t\t\"day\" : \"목\",\n",
    "\t\t\t\"time\" : \"9:00-11:00\"\n",
    "\t\t}\n",
    "\t],\n",
    "\n",
    "        \"dayoff\" : [\"금\"],\n",
    "        \"department\" : \"소프트웨어학과\",\n",
    "        \"semester\" : 2,\n",
    "        \"credit\" : 15\n",
    "}\n",
    "\n",
    "\n",
    "loader = QueryLoader(dummy['coursePriority'], dummy['timeoff'], dummy['dayoff'], dummy['department'], dummy['semester'])\n",
    "print(loader.main_query)\n",
    "print(loader.priority_course_query)\n"
   ]
  },
  {
   "cell_type": "code",
   "execution_count": 3,
   "metadata": {},
   "outputs": [
    {
     "name": "stdout",
     "output_type": "stream",
     "text": [
      "009956 | 1 | 문제해결및실습:JAVA | 전선 | 이 수업은 JAVA를 사용하여 문제를 해결하는 방법을 학습하고, 프로그래밍 실습을 통해 실력을 향상시키는 과정입니다. JAVA를 활용하여 다양한 문제를 해결하는 능력을 키워줄 것입니다. | 박상일 | 월수 | 13:30-15:00 | 3\n",
      "009955 | 2 | 이산수학및프로그래밍 | 전선 | 이산수학과 프로그래밍을 통해 수리적인 사고와 알고리즘 개발 능력을 함양하는 수업입니다. 이론과 실무를 결합하여 다양한 문제를 해결하는 능력을 키우는 과목입니다. | 이은상 | 월수 | 12:00-13:30 | 3\n",
      "009954 | 2 | 알고리즘및실습 | 전필 | 이 수업은 알고리즘 이론을 학습하고 다양한 문제에 적용하는데 초점을 맞춥니다. 학생들은 이론을 바탕으로 실제 코딩 실습을 통해 문제 해결 능력을 향상시킬 수 있습니다. | 송오영 | 수 | 16:30-18:30 | 3\n",
      "009954 | 1 | 알고리즘및실습 | 전필 | 이 수업은 알고리즘 이론을 학습하고 다양한 문제에 적용하는데 초점을 맞춥니다. 학생들은 이론을 바탕으로 실제 코딩 실습을 통해 문제 해결 능력을 향상시킬 수 있습니다. | 송오영 | 월 | 16:30-18:30 | 3\n",
      "003278 | 2 | 컴퓨터구조 | 전필 | 컴퓨터구조 수업은 컴퓨터 시스템의 구성과 동작 방식을 이해하고, 하드웨어와 소프트웨어 간의 상호작용을 학습하는 과목입니다. 이 수업을 통해 컴퓨터의 기본적인 동작 원리를 파악하고 시스템을 최적화하는 방법을 습득할 수 있습니다. | 정승화 | 월수 | 13:30-15:00 | 3\n",
      "003278 | 1 | 컴퓨터구조 | 전필 | 컴퓨터구조 수업은 컴퓨터 시스템의 구성과 동작 방식을 이해하고, 하드웨어와 소프트웨어 간의 상호작용을 학습하는 과목입니다. 이 수업을 통해 컴퓨터의 기본적인 동작 원리를 파악하고 시스템을 최적화하는 방법을 습득할 수 있습니다. | 정승화 | 월수 | 12:00-13:30 | 3\n",
      "003353 | 1 | 통계학개론 | 기필 | 통계학개론은 데이터를 수집, 분석하고 해석하는 기초적인 통계 지식을 다루는 수업입니다. 주어진 자료를 효율적으로 다루어 의사 결정을 내릴 수 있는 능력을 키웁니다. | 김계완 | 월수 | 09:00-10:30 | 3\n",
      "\n"
     ]
    }
   ],
   "source": [
    "from utils import QueryLoader\n",
    "dummy = {\n",
    "    \"user_id\" : \"ljhmu\",\n",
    "\t\"coursePriority\" :\n",
    "\t[\n",
    "\t\t{\n",
    "\t\t\t\"courseName\" : \"서양철학의이해\",\n",
    "\t\t\t\"courseNumber\" : \"009357\",\n",
    "            \"sectionNumber\" : \"1\",\n",
    "\t\t\t\"professorName\" : \"David M Hindman\",\n",
    "\t\t\t\"courseTime\" : \"10:30-12:00\",\n",
    "\t\t\t\"courseDay\" : \"수금\",\n",
    "            \"credit\" : 3\n",
    "\t\t},\n",
    "\t\t{\n",
    "\t\t\t\"courseName\" : \"한국전통문화의이해\",\n",
    "\t\t\t\"courseNumber\" : \"009356\",\n",
    "            \"sectionNumber\" : \"3\",\n",
    "\t\t\t\"professorName\" : \"시지은\",\n",
    "\t\t\t\"courseTime\" : \"15:00-16:30\",\n",
    "\t\t\t\"courseDay\" : \"월수\",\n",
    "            \"credit\" : 3\n",
    "\t\t}\n",
    "\t],\n",
    "\n",
    "\t\"timeoff\" :\n",
    "\t[\n",
    "\t\t{\n",
    "\t\t\t\"day\" : \"목\",\n",
    "\t\t\t\"time\" : \"9:00-11:00\"\n",
    "\t\t}\n",
    "\t],\n",
    "\n",
    "        \"dayoff\" : [\"화\"],\n",
    "        \"department\" : \"소프트웨어학과\",\n",
    "        \"semester\" : 2,\n",
    "        \"credit\" : 15\n",
    "}\n",
    "loader = QueryLoader(dummy['user_id'], dummy['coursePriority'], dummy['timeoff'], dummy['dayoff'])\n",
    "print(loader.get_main_data())"
   ]
  },
  {
   "cell_type": "code",
   "execution_count": 1,
   "metadata": {},
   "outputs": [
    {
     "name": "stdout",
     "output_type": "stream",
     "text": [
      "()\n"
     ]
    },
    {
     "ename": "IndexError",
     "evalue": "tuple index out of range",
     "output_type": "error",
     "traceback": [
      "\u001b[1;31m---------------------------------------------------------------------------\u001b[0m",
      "\u001b[1;31mIndexError\u001b[0m                                Traceback (most recent call last)",
      "Cell \u001b[1;32mIn[1], line 39\u001b[0m\n\u001b[0;32m      1\u001b[0m \u001b[38;5;28;01mfrom\u001b[39;00m \u001b[38;5;21;01mutils\u001b[39;00m \u001b[38;5;28;01mimport\u001b[39;00m QueryLoader\n\u001b[0;32m      2\u001b[0m dummy \u001b[38;5;241m=\u001b[39m {\n\u001b[0;32m      3\u001b[0m     \u001b[38;5;124m\"\u001b[39m\u001b[38;5;124muser_id\u001b[39m\u001b[38;5;124m\"\u001b[39m : \u001b[38;5;124m\"\u001b[39m\u001b[38;5;124mleetain08\u001b[39m\u001b[38;5;124m\"\u001b[39m,\n\u001b[0;32m      4\u001b[0m \t\u001b[38;5;124m\"\u001b[39m\u001b[38;5;124mcoursePriority\u001b[39m\u001b[38;5;124m\"\u001b[39m :\n\u001b[1;32m   (...)\u001b[0m\n\u001b[0;32m     37\u001b[0m         \u001b[38;5;124m\"\u001b[39m\u001b[38;5;124mcredit\u001b[39m\u001b[38;5;124m\"\u001b[39m : \u001b[38;5;241m15\u001b[39m\n\u001b[0;32m     38\u001b[0m }\n\u001b[1;32m---> 39\u001b[0m loader \u001b[38;5;241m=\u001b[39m \u001b[43mQueryLoader\u001b[49m\u001b[43m(\u001b[49m\u001b[43mdummy\u001b[49m\u001b[43m[\u001b[49m\u001b[38;5;124;43m'\u001b[39;49m\u001b[38;5;124;43muser_id\u001b[39;49m\u001b[38;5;124;43m'\u001b[39;49m\u001b[43m]\u001b[49m\u001b[43m,\u001b[49m\u001b[43m \u001b[49m\u001b[43mdummy\u001b[49m\u001b[43m[\u001b[49m\u001b[38;5;124;43m'\u001b[39;49m\u001b[38;5;124;43mcoursePriority\u001b[39;49m\u001b[38;5;124;43m'\u001b[39;49m\u001b[43m]\u001b[49m\u001b[43m,\u001b[49m\u001b[43m \u001b[49m\u001b[43mdummy\u001b[49m\u001b[43m[\u001b[49m\u001b[38;5;124;43m'\u001b[39;49m\u001b[38;5;124;43mtimeoff\u001b[39;49m\u001b[38;5;124;43m'\u001b[39;49m\u001b[43m]\u001b[49m\u001b[43m,\u001b[49m\u001b[43m \u001b[49m\u001b[43mdummy\u001b[49m\u001b[43m[\u001b[49m\u001b[38;5;124;43m'\u001b[39;49m\u001b[38;5;124;43mdayoff\u001b[39;49m\u001b[38;5;124;43m'\u001b[39;49m\u001b[43m]\u001b[49m\u001b[43m)\u001b[49m\n\u001b[0;32m     40\u001b[0m \u001b[38;5;28mprint\u001b[39m(loader\u001b[38;5;241m.\u001b[39mget_main_data())\n",
      "File \u001b[1;32mc:\\Users\\user\\Documents\\lets_kirin\\ai\\src\\utils.py:208\u001b[0m, in \u001b[0;36mQueryLoader.__init__\u001b[1;34m(self, user_id, priority_courses, time_off, day_off)\u001b[0m\n\u001b[0;32m    206\u001b[0m \u001b[38;5;28mself\u001b[39m\u001b[38;5;241m.\u001b[39muser_data \u001b[38;5;241m=\u001b[39m cursor\u001b[38;5;241m.\u001b[39mfetchall()\n\u001b[0;32m    207\u001b[0m \u001b[38;5;28mprint\u001b[39m(\u001b[38;5;28mself\u001b[39m\u001b[38;5;241m.\u001b[39muser_data)\n\u001b[1;32m--> 208\u001b[0m department \u001b[38;5;241m=\u001b[39m \u001b[38;5;28;43mself\u001b[39;49m\u001b[38;5;241;43m.\u001b[39;49m\u001b[43muser_data\u001b[49m\u001b[43m[\u001b[49m\u001b[38;5;241;43m0\u001b[39;49m\u001b[43m]\u001b[49m[\u001b[38;5;241m0\u001b[39m]\n\u001b[0;32m    209\u001b[0m semester \u001b[38;5;241m=\u001b[39m \u001b[38;5;28mself\u001b[39m\u001b[38;5;241m.\u001b[39muser_data[\u001b[38;5;241m0\u001b[39m][\u001b[38;5;241m1\u001b[39m]\n\u001b[0;32m    210\u001b[0m \u001b[38;5;28mself\u001b[39m\u001b[38;5;241m.\u001b[39mdepartment \u001b[38;5;241m=\u001b[39m \u001b[38;5;124m'\u001b[39m\u001b[38;5;124m소프트웨어학과\u001b[39m\u001b[38;5;124m'\u001b[39m\n",
      "\u001b[1;31mIndexError\u001b[0m: tuple index out of range"
     ]
    }
   ],
   "source": [
    "from utils import QueryLoader\n",
    "dummy = {\n",
    "    \"user_id\" : \"leetain08\",\n",
    "\t\"coursePriority\" :\n",
    "\t[\n",
    "\t\t{\n",
    "\t\t\t\"courseName\" : \"서양철학의이해\",\n",
    "\t\t\t\"courseNumber\" : \"009357\",\n",
    "            \"sectionNumber\" : \"1\",\n",
    "\t\t\t\"professorName\" : \"David M Hindman\",\n",
    "\t\t\t\"courseTime\" : \"10:30-12:00\",\n",
    "\t\t\t\"courseDay\" : \"수금\",\n",
    "            \"credit\" : 3\n",
    "\t\t},\n",
    "\t\t{\n",
    "\t\t\t\"courseName\" : \"한국전통문화의이해\",\n",
    "\t\t\t\"courseNumber\" : \"009356\",\n",
    "            \"sectionNumber\" : \"3\",\n",
    "\t\t\t\"professorName\" : \"시지은\",\n",
    "\t\t\t\"courseTime\" : \"15:00-16:30\",\n",
    "\t\t\t\"courseDay\" : \"월수\",\n",
    "            \"credit\" : 3\n",
    "\t\t}\n",
    "\t],\n",
    "\n",
    "\t\"timeoff\" :\n",
    "\t[\n",
    "\t\t{\n",
    "\t\t\t\"day\" : \"목\",\n",
    "\t\t\t\"time\" : \"9:00-11:00\"\n",
    "\t\t}\n",
    "\t],\n",
    "\n",
    "        \"dayoff\" : [\"화\"],\n",
    "        \"department\" : \"소프트웨어학과\",\n",
    "        \"semester\" : 2,\n",
    "        \"credit\" : 15\n",
    "}\n",
    "loader = QueryLoader(dummy['user_id'], dummy['coursePriority'], dummy['timeoff'], dummy['dayoff'])\n",
    "print(loader.get_main_data())"
   ]
  },
  {
   "cell_type": "code",
   "execution_count": 2,
   "metadata": {},
   "outputs": [
    {
     "ename": "NameError",
     "evalue": "name 'loader' is not defined",
     "output_type": "error",
     "traceback": [
      "\u001b[1;31m---------------------------------------------------------------------------\u001b[0m",
      "\u001b[1;31mNameError\u001b[0m                                 Traceback (most recent call last)",
      "Cell \u001b[1;32mIn[2], line 1\u001b[0m\n\u001b[1;32m----> 1\u001b[0m \u001b[38;5;28mprint\u001b[39m(\u001b[43mloader\u001b[49m\u001b[38;5;241m.\u001b[39mmain_query)\n",
      "\u001b[1;31mNameError\u001b[0m: name 'loader' is not defined"
     ]
    }
   ],
   "source": [
    "print(loader.main_query)"
   ]
  },
  {
   "cell_type": "code",
   "execution_count": 2,
   "metadata": {},
   "outputs": [
    {
     "name": "stdout",
     "output_type": "stream",
     "text": [
      "(('009956', 2, '문제해결및실습:JAVA', '전선', '이 수업은 JAVA를 사용하여 문제를 해결하는 방법을 학습하고, 프로그래밍 실습을 통해 실력을 향상시키는 과정입니다. JAVA를 활용하여 다양한 문제를 해결하는 능력을 키워줄 것입니다.', '박상일', '월수', '15:00-16:30', 3), ('009956', 1, '문제해결및실습:JAVA', '전선', '이 수업은 JAVA를 사용하여 문제를 해결하는 방법을 학습하고, 프로그래밍 실습을 통해 실력을 향상시키는 과정입니다. JAVA를 활용하여 다양한 문제를 해결하는 능력을 키워줄 것입니다.', '박상일', '월수', '13:30-15:00', 3), ('009955', 2, '이산수학및프로그래밍', '전선', '이산수학과 프로그래밍을 통해 수리적인 사고와 알고리즘 개발 능력을 함양하는 수업입니다. 이론과 실무를 결합하여 다양한 문제를 해결하는 능력을 키우는 과목입니다.', '이은상', '월수', '12:00-13:30', 3), ('009993', 2, 'SW설계기초(산학프로젝트입문)', '전필', '소프트웨어 설계의 기초를 학습하며 산업계에서의 프로젝트에 대한 입문을 경험하는 수업입니다. 실무에서 활용되는 SW 설계 방법론과 프로젝트 관리 기술을 습득하고자 하는 학생들을 위한 과목입니다.', '정승화', '화목', '16:30-18:00', 3), ('009993', 1, 'SW설계기초(산학프로젝트입문)', '전필', '소프트웨어 설계의 기초를 학습하며 산업계에서의 프로젝트에 대한 입문을 경험하는 수업입니다. 실무에서 활용되는 SW 설계 방법론과 프로젝트 관리 기술을 습득하고자 하는 학생들을 위한 과목입니다.', '정승화', '화목', '15:00-16:30', 3), ('009954', 2, '알고리즘및실습', '전필', '이 수업은 알고리즘 이론을 학습하고 다양한 문제에 적용하는데 초점을 맞춥니다. 학생들은 이론을 바탕으로 실제 코딩 실습을 통해 문제 해결 능력을 향상시킬 수 있습니다.', '송오영', '수', '16:30-18:30', 3), ('009954', 1, '알고리즘및실습', '전필', '이 수업은 알고리즘 이론을 학습하고 다양한 문제에 적용하는데 초점을 맞춥니다. 학생들은 이론을 바탕으로 실제 코딩 실습을 통해 문제 해결 능력을 향상시킬 수 있습니다.', '송오영', '월', '16:30-18:30', 3), ('003278', 2, '컴퓨터구조', '전필', '컴퓨터구조 수업은 컴퓨터 시스템의 구성과 동작 방식을 이해하고, 하드웨어와 소프트웨어 간의 상호작용을 학습하는 과목입니다. 이 수업을 통해 컴퓨터의 기본적인 동작 원리를 파악하고 시스템을 최적화하는 방법을 습득할 수 있습니다.', '정승화', '월수', '13:30-15:00', 3), ('003278', 1, '컴퓨터구조', '전필', '컴퓨터구조 수업은 컴퓨터 시스템의 구성과 동작 방식을 이해하고, 하드웨어와 소프트웨어 간의 상호작용을 학습하는 과목입니다. 이 수업을 통해 컴퓨터의 기본적인 동작 원리를 파악하고 시스템을 최적화하는 방법을 습득할 수 있습니다.', '정승화', '월수', '12:00-13:30', 3), ('009961', 2, '선형대수및프로그래밍', '전선', '선형대수를 기반으로 하는 프로그래밍 기술을 학습하여 데이터 분석 및 머신러닝 분야에서의 문제 해결 능력을 향상시키는 수업입니다. 이론과 실습을 통해 선형대수의 개념을 이해하고 프로그래밍을 통해 응용하는 방법을 배울 수 있습니다.', '이종원', '화목', '13:30-15:00', 3), ('009961', 1, '선형대수및프로그래밍', '전선', '선형대수를 기반으로 하는 프로그래밍 기술을 학습하여 데이터 분석 및 머신러닝 분야에서의 문제 해결 능력을 향상시키는 수업입니다. 이론과 실습을 통해 선형대수의 개념을 이해하고 프로그래밍을 통해 응용하는 방법을 배울 수 있습니다.', '이종원', '화목', '12:00-13:30', 3), ('003353', 1, '통계학개론', '기필', '통계학개론은 데이터를 수집, 분석하고 해석하는 기초적인 통계 지식을 다루는 수업입니다. 주어진 자료를 효율적으로 다루어 의사 결정을 내릴 수 있는 능력을 키웁니다.', '김계완', '월수', '09:00-10:30', 3), ('003353', 3, '통계학개론', '기필', '통계학개론은 데이터를 수집, 분석하고 해석하는 기초적인 통계 지식을 다루는 수업입니다. 주어진 자료를 효율적으로 다루어 의사 결정을 내릴 수 있는 능력을 키웁니다.', '정슬기', '화목', '13:30-15:00', 3))\n"
     ]
    }
   ],
   "source": [
    "import os\n",
    "import pymysql\n",
    "from dotenv import load_dotenv\n",
    "load_dotenv()\n",
    "connection = pymysql.connect(\n",
    "    host=os.getenv('DB_HOST'),\n",
    "    port=int(os.getenv('DB_PORT')),\n",
    "    user=os.getenv('DB_USER'),\n",
    "    password=os.getenv('DB_PASSWORD'),\n",
    "    db=os.getenv('DB_NAME')\n",
    ")\n",
    "cursor = connection.cursor()\n",
    "\n",
    "\n",
    "department_filter_query = f\"SELECT *FROM taken_courses\"\n",
    "cursor.execute(loader.main_query)\n",
    "data = cursor.fetchall()\n",
    "print(data)"
   ]
  },
  {
   "cell_type": "code",
   "execution_count": 3,
   "metadata": {},
   "outputs": [
    {
     "name": "stdout",
     "output_type": "stream",
     "text": [
      "('009956', 2, '문제해결및실습:JAVA', '전선', '이 수업은 JAVA를 사용하여 문제를 해결하는 방법을 학습하고, 프로그래밍 실습을 통해 실력을 향상시키는 과정입니다. JAVA를 활용하여 다양한 문제를 해결하는 능력을 키워줄 것입니다.', '박상일', '월수', '15:00-16:30', 3)\n",
      "('009956', 1, '문제해결및실습:JAVA', '전선', '이 수업은 JAVA를 사용하여 문제를 해결하는 방법을 학습하고, 프로그래밍 실습을 통해 실력을 향상시키는 과정입니다. JAVA를 활용하여 다양한 문제를 해결하는 능력을 키워줄 것입니다.', '박상일', '월수', '13:30-15:00', 3)\n",
      "('009955', 2, '이산수학및프로그래밍', '전선', '이산수학과 프로그래밍을 통해 수리적인 사고와 알고리즘 개발 능력을 함양하는 수업입니다. 이론과 실무를 결합하여 다양한 문제를 해결하는 능력을 키우는 과목입니다.', '이은상', '월수', '12:00-13:30', 3)\n",
      "('009993', 2, 'SW설계기초(산학프로젝트입문)', '전필', '소프트웨어 설계의 기초를 학습하며 산업계에서의 프로젝트에 대한 입문을 경험하는 수업입니다. 실무에서 활용되는 SW 설계 방법론과 프로젝트 관리 기술을 습득하고자 하는 학생들을 위한 과목입니다.', '정승화', '화목', '16:30-18:00', 3)\n",
      "('009993', 1, 'SW설계기초(산학프로젝트입문)', '전필', '소프트웨어 설계의 기초를 학습하며 산업계에서의 프로젝트에 대한 입문을 경험하는 수업입니다. 실무에서 활용되는 SW 설계 방법론과 프로젝트 관리 기술을 습득하고자 하는 학생들을 위한 과목입니다.', '정승화', '화목', '15:00-16:30', 3)\n",
      "('009954', 2, '알고리즘및실습', '전필', '이 수업은 알고리즘 이론을 학습하고 다양한 문제에 적용하는데 초점을 맞춥니다. 학생들은 이론을 바탕으로 실제 코딩 실습을 통해 문제 해결 능력을 향상시킬 수 있습니다.', '송오영', '수', '16:30-18:30', 3)\n",
      "('009954', 1, '알고리즘및실습', '전필', '이 수업은 알고리즘 이론을 학습하고 다양한 문제에 적용하는데 초점을 맞춥니다. 학생들은 이론을 바탕으로 실제 코딩 실습을 통해 문제 해결 능력을 향상시킬 수 있습니다.', '송오영', '월', '16:30-18:30', 3)\n",
      "('003278', 2, '컴퓨터구조', '전필', '컴퓨터구조 수업은 컴퓨터 시스템의 구성과 동작 방식을 이해하고, 하드웨어와 소프트웨어 간의 상호작용을 학습하는 과목입니다. 이 수업을 통해 컴퓨터의 기본적인 동작 원리를 파악하고 시스템을 최적화하는 방법을 습득할 수 있습니다.', '정승화', '월수', '13:30-15:00', 3)\n",
      "('003278', 1, '컴퓨터구조', '전필', '컴퓨터구조 수업은 컴퓨터 시스템의 구성과 동작 방식을 이해하고, 하드웨어와 소프트웨어 간의 상호작용을 학습하는 과목입니다. 이 수업을 통해 컴퓨터의 기본적인 동작 원리를 파악하고 시스템을 최적화하는 방법을 습득할 수 있습니다.', '정승화', '월수', '12:00-13:30', 3)\n",
      "('009961', 2, '선형대수및프로그래밍', '전선', '선형대수를 기반으로 하는 프로그래밍 기술을 학습하여 데이터 분석 및 머신러닝 분야에서의 문제 해결 능력을 향상시키는 수업입니다. 이론과 실습을 통해 선형대수의 개념을 이해하고 프로그래밍을 통해 응용하는 방법을 배울 수 있습니다.', '이종원', '화목', '13:30-15:00', 3)\n",
      "('009961', 1, '선형대수및프로그래밍', '전선', '선형대수를 기반으로 하는 프로그래밍 기술을 학습하여 데이터 분석 및 머신러닝 분야에서의 문제 해결 능력을 향상시키는 수업입니다. 이론과 실습을 통해 선형대수의 개념을 이해하고 프로그래밍을 통해 응용하는 방법을 배울 수 있습니다.', '이종원', '화목', '12:00-13:30', 3)\n",
      "('003353', 1, '통계학개론', '기필', '통계학개론은 데이터를 수집, 분석하고 해석하는 기초적인 통계 지식을 다루는 수업입니다. 주어진 자료를 효율적으로 다루어 의사 결정을 내릴 수 있는 능력을 키웁니다.', '김계완', '월수', '09:00-10:30', 3)\n",
      "('003353', 3, '통계학개론', '기필', '통계학개론은 데이터를 수집, 분석하고 해석하는 기초적인 통계 지식을 다루는 수업입니다. 주어진 자료를 효율적으로 다루어 의사 결정을 내릴 수 있는 능력을 키웁니다.', '정슬기', '화목', '13:30-15:00', 3)\n"
     ]
    }
   ],
   "source": [
    "for row in data:\n",
    "    print(row)"
   ]
  },
  {
   "cell_type": "code",
   "execution_count": 4,
   "metadata": {},
   "outputs": [
    {
     "name": "stdout",
     "output_type": "stream",
     "text": [
      "(('bace171b-43e5-48ee-8a41-82b188e9d9cf', 'asdppopop', '$2b$10$tJX1ZhgmP0Ntl5UbRm.4EOCgEFLr86UWT0PORNZsLspRYTT2llyLG', '지호', '2020', 1, Decimal('3.63'), '{\"ai\":2,\"cs\":13,\"language\":10,\"algorithm\":4,\"server\":2,\"ds\":3}', '2024-11-22', '', '소프트웨어학과', '3-2'),)\n"
     ]
    }
   ],
   "source": [
    "import pymysql\n",
    "import os\n",
    "from dotenv import load_dotenv\n",
    "load_dotenv()\n",
    "connection = pymysql.connect(\n",
    "    host=os.getenv('DB_HOST'),\n",
    "    port=int(os.getenv('DB_PORT')),\n",
    "    user=os.getenv('DB_USER'),\n",
    "    password=os.getenv('DB_PASSWORD'),\n",
    "    db=os.getenv('DB_NAME')\n",
    ")\n",
    "cursor = connection.cursor()\n",
    "\n",
    "user_id = 'lee08tain'\n",
    "query = f\"\"\"SELECT * FROM user WHERE id = 'asdppopop'\"\"\"\n",
    "cursor.execute(query)\n",
    "data = cursor.fetchall()\n",
    "print(data)"
   ]
  },
  {
   "cell_type": "code",
   "execution_count": 1,
   "metadata": {},
   "outputs": [
    {
     "ename": "TypeError",
     "evalue": "int() argument must be a string, a bytes-like object or a number, not 'NoneType'",
     "output_type": "error",
     "traceback": [
      "\u001b[1;31m---------------------------------------------------------------------------\u001b[0m",
      "\u001b[1;31mTypeError\u001b[0m                                 Traceback (most recent call last)",
      "Cell \u001b[1;32mIn[1], line 5\u001b[0m\n\u001b[0;32m      1\u001b[0m \u001b[38;5;28;01mimport\u001b[39;00m \u001b[38;5;21;01mpymysql\u001b[39;00m\n\u001b[0;32m      2\u001b[0m \u001b[38;5;28;01mimport\u001b[39;00m \u001b[38;5;21;01mos\u001b[39;00m\n\u001b[0;32m      3\u001b[0m connection \u001b[38;5;241m=\u001b[39m pymysql\u001b[38;5;241m.\u001b[39mconnect(\n\u001b[0;32m      4\u001b[0m     host\u001b[38;5;241m=\u001b[39mos\u001b[38;5;241m.\u001b[39mgetenv(\u001b[38;5;124m'\u001b[39m\u001b[38;5;124mDB_HOST\u001b[39m\u001b[38;5;124m'\u001b[39m),\n\u001b[1;32m----> 5\u001b[0m     port\u001b[38;5;241m=\u001b[39m\u001b[38;5;28;43mint\u001b[39;49m\u001b[43m(\u001b[49m\u001b[43mos\u001b[49m\u001b[38;5;241;43m.\u001b[39;49m\u001b[43mgetenv\u001b[49m\u001b[43m(\u001b[49m\u001b[38;5;124;43m'\u001b[39;49m\u001b[38;5;124;43mDB_PORT\u001b[39;49m\u001b[38;5;124;43m'\u001b[39;49m\u001b[43m)\u001b[49m\u001b[43m)\u001b[49m,\n\u001b[0;32m      6\u001b[0m     user\u001b[38;5;241m=\u001b[39mos\u001b[38;5;241m.\u001b[39mgetenv(\u001b[38;5;124m'\u001b[39m\u001b[38;5;124mDB_USER\u001b[39m\u001b[38;5;124m'\u001b[39m),\n\u001b[0;32m      7\u001b[0m     password\u001b[38;5;241m=\u001b[39mos\u001b[38;5;241m.\u001b[39mgetenv(\u001b[38;5;124m'\u001b[39m\u001b[38;5;124mDB_PASSWORD\u001b[39m\u001b[38;5;124m'\u001b[39m),\n\u001b[0;32m      8\u001b[0m     db\u001b[38;5;241m=\u001b[39mos\u001b[38;5;241m.\u001b[39mgetenv(\u001b[38;5;124m'\u001b[39m\u001b[38;5;124mDB_NAME\u001b[39m\u001b[38;5;124m'\u001b[39m)\n\u001b[0;32m      9\u001b[0m )\n\u001b[0;32m     10\u001b[0m cursor \u001b[38;5;241m=\u001b[39m connection\u001b[38;5;241m.\u001b[39mcursor()\n\u001b[0;32m     12\u001b[0m user_id \u001b[38;5;241m=\u001b[39m \u001b[38;5;124m'\u001b[39m\u001b[38;5;124masdppopop\u001b[39m\u001b[38;5;124m'\u001b[39m\n",
      "\u001b[1;31mTypeError\u001b[0m: int() argument must be a string, a bytes-like object or a number, not 'NoneType'"
     ]
    }
   ],
   "source": [
    "import pymysql\n",
    "import os\n",
    "connection = pymysql.connect(\n",
    "    host=os.getenv('DB_HOST'),\n",
    "    port=int(os.getenv('DB_PORT')),\n",
    "    user=os.getenv('DB_USER'),\n",
    "    password=os.getenv('DB_PASSWORD'),\n",
    "    db=os.getenv('DB_NAME')\n",
    ")\n",
    "cursor = connection.cursor()\n",
    "\n",
    "user_id = 'asdppopop'\n",
    "query = f\"\"\"SELECT LPAD(courseNumber, '6', 0) FROM taken_courses WHERE userid=\\'asdppopop\\'\"\"\"\n",
    "cursor.execute(query)\n",
    "data = cursor.fetchall()\n",
    "\n",
    "user_priority_courses_list = \"\"\"(\"\"\"\n",
    "for row in data:\n",
    "    user_priority_courses_list += f\"'{row[0]}', \"\n",
    "user_priority_courses_list = user_priority_courses_list[:-2]\n",
    "user_priority_courses_list += \")\"\n",
    "user_priority_courses_list"
   ]
  },
  {
   "cell_type": "code",
   "execution_count": 7,
   "metadata": {},
   "outputs": [],
   "source": [
    "priority_course_query = None\n",
    "if priority_course_query:\n",
    "    print(1)"
   ]
  },
  {
   "cell_type": "code",
   "execution_count": 28,
   "metadata": {},
   "outputs": [
    {
     "data": {
      "text/plain": [
       "('0', '0')"
      ]
     },
     "execution_count": 28,
     "metadata": {},
     "output_type": "execute_result"
    }
   ],
   "source": [
    "data[0][0], data[0][1]"
   ]
  },
  {
   "cell_type": "code",
   "execution_count": 35,
   "metadata": {},
   "outputs": [
    {
     "name": "stdout",
     "output_type": "stream",
     "text": [
      "(('0', '0'),)\n"
     ]
    }
   ],
   "source": [
    "connection = pymysql.connect(\n",
    "    host=os.getenv('DB_HOST'),\n",
    "    port=int(os.getenv('DB_PORT')),\n",
    "    user=os.getenv('DB_USER'),\n",
    "    password=os.getenv('DB_PASSWORD'),\n",
    "    db=os.getenv('DB_NAME')\n",
    ")\n",
    "cursor = connection.cursor()\n",
    "\n",
    "user_id = 'lee08tain'\n",
    "query = f\"\"\"SELECT department, semester FROM user WHERE id='lee08tain' \"\"\"\n",
    "cursor.execute(query)\n",
    "data = cursor.fetchall()\n",
    "print(data)"
   ]
  },
  {
   "cell_type": "code",
   "execution_count": null,
   "metadata": {},
   "outputs": [
    {
     "name": "stdout",
     "output_type": "stream",
     "text": [
      "(43, 'lee08tain', 2024, '1', 4310, '운영체제', '전필', 'undefined', 'undefined', 3, 'GRADE', 'C+', 2, '3210', None)\n",
      "(44, 'lee08tain', 2024, '1', 6844, 'Intensive English', '교선1', 'undefined', '세계와지구촌', 3, 'GRADE', 'B+', 3, '9005', None)\n",
      "(45, 'lee08tain', 2024, '1', 7219, '데이터베이스', '전필', 'undefined', 'undefined', 3, 'GRADE', 'A+', 4, '3220', None)\n",
      "(46, 'lee08tain', 2024, '1', 8364, '세종사회봉사1', '교필', 'undefined', '자기계발과진로', 1, 'P/NP', 'NP', 0, '9005', None)\n",
      "(47, 'lee08tain', 2024, '1', 9957, '오픈소스SW개론', '전필', 'undefined', 'undefined', 3, 'GRADE', 'B+', 3, '3220', None)\n",
      "(48, 'lee08tain', 2024, '1', 10542, 'K-MOOC:일반인을위한물리코딩', '교선1', 'undefined', '자연과과학기술', 1, 'P/NP', 'P', 0, '9005', None)\n",
      "(49, 'lee08tain', 2024, '1', 11183, '취창업과진로설계', '교필', 'undefined', 'undefined', 1, 'P/NP', 'P', 0, '9005', None)\n",
      "(50, 'lee08tain', 2024, '1', 11251, 'K-MOOC:모두를위한머신러닝', '전선', 'undefined', 'undefined', 3, 'GRADE', 'A+', 4, '3210', None)\n",
      "(51, 'lee08tain', 2024, '1', 11771, 'K-MOOC:생성형인공지능입문', '전선', 'undefined', 'undefined', 3, 'GRADE', 'A0', 4, '3210', None)\n",
      "(52, 'lee08tain', 2023, '2', 3278, '컴퓨터구조', '전필', 'undefined', 'undefined', 3, 'GRADE', 'B+', 3, '3220', None)\n",
      "(53, 'lee08tain', 2023, '2', 3353, '통계학개론', '기교', 'undefined', 'undefined', 3, 'GRADE', 'A+', 4, '9005', None)\n",
      "(54, 'lee08tain', 2023, '2', 9045, '창업과기업가정신1', '교필', 'undefined', 'undefined', 1, 'P/NP', 'P', 0, '9005', None)\n",
      "(55, 'lee08tain', 2023, '2', 9936, 'Technical Writing기초', '교선1', 'undefined', '자연과과학기술', 2, 'GRADE', 'B+', 3, '9005', None)\n",
      "(56, 'lee08tain', 2023, '2', 9954, '알고리즘및실습', '전필', 'undefined', 'undefined', 3, 'GRADE', 'A+', 4, '3220', None)\n",
      "(57, 'lee08tain', 2023, '2', 9955, '이산수학및프로그래밍', '전선', 'undefined', 'undefined', 3, 'GRADE', 'A+', 4, '3220', None)\n",
      "(58, 'lee08tain', 2023, '2', 9961, '선형대수및프로그래밍', '전선', 'undefined', 'undefined', 3, 'GRADE', 'B0', 3, '3220', None)\n",
      "(59, 'lee08tain', 2023, '2', 9993, 'SW설계기초(산학프로젝트입문)', '전필', 'undefined', 'undefined', 3, 'GRADE', 'A0', 4, '3220', None)\n",
      "(60, 'lee08tain', 2023, '2', 10410, 'K-MOOC:웨어러블컴퓨터디자인', '교선1', 'undefined', '예술과체육', 1, 'P/NP', 'P', 0, '9005', None)\n",
      "(61, 'lee08tain', 2023, '1', 4102, '수치해석', '전선', 'undefined', 'undefined', 3, 'GRADE', 'A+', 4, '3220', None)\n",
      "(62, 'lee08tain', 2023, '1', 9489, '세계사:인간과문명', '교선1', 'undefined', '사상과역사', 3, 'GRADE', 'B0', 3, '9005', None)\n",
      "(63, 'lee08tain', 2023, '1', 9952, '자료구조및실습', '전필', 'undefined', 'undefined', 3, 'GRADE', 'A+', 4, '3220', None)\n",
      "(64, 'lee08tain', 2023, '1', 9959, '확률통계및프로그래밍', '전선', 'undefined', 'undefined', 3, 'GRADE', 'A0', 4, '3220', None)\n",
      "(65, 'lee08tain', 2023, '1', 9992, '문제해결및실습:C++', '전필', 'undefined', 'undefined', 3, 'GRADE', 'B+', 3, '3220', None)\n",
      "(66, 'lee08tain', 2023, '1', 10206, '일반물리및시뮬레이션', '전선', 'undefined', 'undefined', 3, 'GRADE', 'B0', 3, '3220', None)\n",
      "(67, 'lee08tain', 2023, '1', 10357, '수요집현강좌', '교선1', 'undefined', '사상과역사', 1, 'P/NP', 'P', 0, '9005', None)\n",
      "(68, 'lee08tain', 2022, '겨울', 10352, 'English Listening Practice 1', '교필', 'undefined', '학문기초', 2, 'GRADE', 'A0', 4, '9005', None)\n",
      "(69, 'lee08tain', 2022, '1', 501350, '나를위한커리어코칭', '교선2', 'undefined', 'undefined', 3, 'GRADE', 'A+', 4, '9005', None)\n",
      "(70, 'lee08tain', 2021, '2', 8933, '서양고전강독2', '교선1', 'undefined', '사상과역사', 1, 'P/NP', 'P', 0, '9005', None)\n",
      "(71, 'lee08tain', 2021, '2', 9938, '동서양고전문학강독', '교선1', 'undefined', '사상과역사', 1, 'P/NP', 'P', 0, '9005', None)\n",
      "(72, 'lee08tain', 2020, '2', 304, '공업수학1', '기교', 'undefined', '생명과 과학', 3, 'GRADE', 'C0', 2, '9005', None)\n",
      "(73, 'lee08tain', 2020, '2', 9068, '서양철학:쟁점과토론', '교필', 'undefined', '인성과창의력', 3, 'GRADE', 'B+', 3, '9005', None)\n",
      "(74, 'lee08tain', 2020, '2', 9913, '고급C프로그래밍및실습', '전필', 'undefined', 'undefined', 4, 'GRADE', 'B+', 3, '3220', None)\n",
      "(75, 'lee08tain', 2020, '2', 10136, 'K-MOOC:정보보호와보안의기초', '교선1', 'undefined', '자연과과학기술', 3, 'GRADE', 'C+', 2, '9005', None)\n",
      "(76, 'lee08tain', 2020, '2', 10412, 'K-MOOC:콘텐츠산업의비즈니스전략', '교선1', 'undefined', '융합과창업', 3, 'GRADE', 'B+', 3, '9005', None)\n",
      "(77, 'lee08tain', 2020, '2', 11110, '신입생세미나', '교필', 'undefined', 'undefined', 1, 'P/NP', 'P', 0, '3220', None)\n",
      "(78, 'lee08tain', 2020, '2', 600038, '테크노경영학-창업의한수', '교선2', 'undefined', '사회와제도', 3, 'GRADE', 'D+', 1, '9005', None)\n",
      "(79, 'lee08tain', 2020, '1', 6098, '기초미적분학', '기교', 'undefined', '생명과 과학', 3, 'GRADE', 'B+', 3, '9005', None)\n",
      "(80, 'lee08tain', 2020, '1', 9061, '웰빙레저스포츠', '교선2', 'undefined', '예술과생활', 2, 'GRADE', 'B+', 3, '9005', None)\n",
      "(81, 'lee08tain', 2020, '1', 9067, '문제해결을위한글쓰기와발표', '교필', 'undefined', '학문기초', 3, 'GRADE', 'B+', 3, '9005', None)\n",
      "(82, 'lee08tain', 2020, '1', 9790, '고급프로그래밍입문-P', '교선1', 'undefined', '자연과과학기술', 3, 'GRADE', 'A0', 4, '9005', None)\n",
      "(83, 'lee08tain', 2020, '1', 9912, 'C프로그래밍및실습', '전필', 'undefined', 'undefined', 4, 'GRADE', 'A0', 4, '3220', None)\n",
      "(84, 'lee08tain', 2020, '1', 10351, '대학생활과진로설계', '교필', 'undefined', '역량강화', 1, 'P/NP', 'P', 0, '3220', None)\n"
     ]
    }
   ],
   "source": [
    "for row in data:\n",
    "    print(row)"
   ]
  },
  {
   "cell_type": "code",
   "execution_count": 8,
   "metadata": {},
   "outputs": [
    {
     "name": "stdout",
     "output_type": "stream",
     "text": [
      "(4615, '소프트웨어학과', '센B111', 3, '009956', 2, '문제해결및실습:JAVA', '', '전선', '', 2, '학사', '소프트웨어학과', '박상일', '0', 0, 0, '월수', '15:00-16:30', '이 수업은 JAVA를 사용하여 문제를 해결하는 방법을 학습하고, 프로그래밍 실습을 통해 실력을 향상시키는 과정입니다. JAVA를 활용하여 다양한 문제를 해결하는 능력을 키워줄 것입니다.')\n",
      "(4617, '소프트웨어학과', '센B111', 3, '009956', 1, '문제해결및실습:JAVA', '', '전선', '', 2, '학사', '소프트웨어학과', '박상일', '0', 0, 0, '월수', '13:30-15:00', '이 수업은 JAVA를 사용하여 문제를 해결하는 방법을 학습하고, 프로그래밍 실습을 통해 실력을 향상시키는 과정입니다. JAVA를 활용하여 다양한 문제를 해결하는 능력을 키워줄 것입니다.')\n",
      "(4619, '소프트웨어학과', '센B112', 3, '009955', 2, '이산수학및프로그래밍', '', '전선', '', 2, '학사', '소프트웨어학과', '이은상', '0', 1, 0, '월수', '12:00-13:30', '이산수학과 프로그래밍을 통해 수리적인 사고와 알고리즘 개발 능력을 함양하는 수업입니다. 이론과 실무를 결합하여 다양한 문제를 해결하는 능력을 키우는 과목입니다.')\n",
      "(4620, '소프트웨어학과', '센B112', 3, '009955', 1, '이산수학및프로그래밍', '', '전선', '', 2, '학사', '소프트웨어학과', '이은상', '0', 1, 0, '월수', '10:30-12:00', '이산수학과 프로그래밍을 통해 수리적인 사고와 알고리즘 개발 능력을 함양하는 수업입니다. 이론과 실무를 결합하여 다양한 문제를 해결하는 능력을 키우는 과목입니다.')\n",
      "(4621, '소프트웨어학과', '센B111', 3, '009993', 2, 'SW설계기초(산학프로젝트입문)', '', '전필', '', 2, '학사', '소프트웨어학과', '정승화', '0', 0, 0, '화목', '16:30-18:00', '소프트웨어 설계의 기초를 학습하며 산업계에서의 프로젝트에 대한 입문을 경험하는 수업입니다. 실무에서 활용되는 SW 설계 방법론과 프로젝트 관리 기술을 습득하고자 하는 학생들을 위한 과목입니다.')\n",
      "(4624, '소프트웨어학과', '센B111', 3, '009993', 1, 'SW설계기초(산학프로젝트입문)', '', '전필', '', 2, '학사', '소프트웨어학과', '정승화', '0', 0, 0, '화목', '15:00-16:30', '소프트웨어 설계의 기초를 학습하며 산업계에서의 프로젝트에 대한 입문을 경험하는 수업입니다. 실무에서 활용되는 SW 설계 방법론과 프로젝트 관리 기술을 습득하고자 하는 학생들을 위한 과목입니다.')\n",
      "(4626, '소프트웨어학과', '센B111', 3, '009954', 2, '알고리즘및실습', '', '전필', '', 2, '학사', '소프트웨어학과', '송오영', '0', 0, 0, '수', '16:30-18:30', '이 수업은 알고리즘 이론을 학습하고 다양한 문제에 적용하는데 초점을 맞춥니다. 학생들은 이론을 바탕으로 실제 코딩 실습을 통해 문제 해결 능력을 향상시킬 수 있습니다.')\n",
      "(4628, '소프트웨어학과', '센B111', 3, '009954', 1, '알고리즘및실습', '', '전필', '', 2, '학사', '소프트웨어학과', '송오영', '0', 0, 0, '월', '16:30-18:30', '이 수업은 알고리즘 이론을 학습하고 다양한 문제에 적용하는데 초점을 맞춥니다. 학생들은 이론을 바탕으로 실제 코딩 실습을 통해 문제 해결 능력을 향상시킬 수 있습니다.')\n",
      "(4631, '소프트웨어학과', '센B114', 3, '003278', 2, '컴퓨터구조', '', '전필', '', 2, '학사', '소프트웨어학과', '정승화', '0', 0, 0, '월수', '13:30-15:00', '컴퓨터구조 수업은 컴퓨터 시스템의 구성과 동작 방식을 이해하고, 하드웨어와 소프트웨어 간의 상호작용을 학습하는 과목입니다. 이 수업을 통해 컴퓨터의 기본적인 동작 원리를 파악하고 시스템을 최적화하는 방법을 습득할 수 있습니다.')\n",
      "(4634, '소프트웨어학과', '센B114', 3, '003278', 1, '컴퓨터구조', '', '전필', '', 2, '학사', '소프트웨어학과', '정승화', '0', 0, 0, '월수', '12:00-13:30', '컴퓨터구조 수업은 컴퓨터 시스템의 구성과 동작 방식을 이해하고, 하드웨어와 소프트웨어 간의 상호작용을 학습하는 과목입니다. 이 수업을 통해 컴퓨터의 기본적인 동작 원리를 파악하고 시스템을 최적화하는 방법을 습득할 수 있습니다.')\n",
      "(4647, '소프트웨어학과', '집302', 1, '011839', 1, '세종인을위한전공탐색', '', '공필', '', 1, '학사', '소프트웨어학과', '박상일', '0', 0, 0, '월', '18:00-19:00', '세종인들을 위해 다양한 전공 영역을 탐색하고 선택하는 과정을 도와주는 수업입니다. 학생들이 자신에게 맞는 전공을 찾아가는데 도움을 줄 것입니다.')\n",
      "(4649, '소프트웨어학과', '센B111', 1, '010112', 2, '졸업연구및진로2', '', '전선', '', 4, '학사', '소프트웨어학과', '송오영', '0', 0, 0, '목', '18:00-19:00', '졸업을 앞둔 학생들을 대상으로 졸업 연구 및 진로에 대한 심층적인 지원과 안내를 제공하는 수업입니다. 학생들의 진로 선택과 미래 계획을 돕고, 졸업 연구를 효과적으로 수행할 수 있도록 도와줍니다.')\n",
      "(4651, '소프트웨어학과', '센B111', 1, '010112', 1, '졸업연구및진로2', '', '전선', '', 4, '학사', '소프트웨어학과', '최준연', '0', 0, 0, '목', '18:00-19:00', '졸업을 앞둔 학생들을 대상으로 졸업 연구 및 진로에 대한 심층적인 지원과 안내를 제공하는 수업입니다. 학생들의 진로 선택과 미래 계획을 돕고, 졸업 연구를 효과적으로 수행할 수 있도록 도와줍니다.')\n",
      "(4653, '소프트웨어학과', '센B114', 3, '009973', 1, '소프트웨어특강2', '', '전선', '', 4, '학사', '소프트웨어학과', '최준연', '0', 0, 0, '화', '16:30-19:30', '소프트웨어특강2는 심화된 소프트웨어 지식을 학습하며, 다양한 프로그래밍 언어와 기술을 다루는 수업입니다. 실무에서 활용할 수 있는 실전적인 프로젝트를 통해 실력을 향상시킬 수 있습니다.')\n",
      "(4654, '소프트웨어학과', '센B114', 3, '002505', 1, '인공지능', '', '전선', '', 4, '학사', '소프트웨어학과', '이은상', '0', 0, 0, '화목', '15:00-16:30', '인공지능 수업은 인간의 학습, 추론, 의사 결정 등의 능력을 컴퓨터 시스템으로 구현하는 기술에 대해 학습하는 과목입니다. 이 수업을 통해 머신러닝, 딥러닝, 자연어 처리 등 다양한 인공지능 기술을 습득할 수 있습니다.')\n",
      "(4655, '소프트웨어학과', '센B112', 6, '009960', 1, 'Capstone디자인(산학협력프로젝트)', '', '전필', '', 4, '학사', '소프트웨어학과', '권순일, 변재욱', '0', 0, 0, '금', '13:30-19:30', '캡스톤 디자인 수업은 산학협력프로젝트를 통해 학생들이 실제 산업에서의 문제를 해결하고 창의적인 디자인을 구상하는 능력을 키우는 수업입니다. 학생들은 실무 경험을 쌓으며 현업에서 요구되는 전략적 사고와 문제해결 능력을 향상시킬 수 있습니다.')\n",
      "(4659, '소프트웨어학과', '센B112', 3, '011175', 1, '음성오디오처리', '', '전선', '', 3, '학사', '소프트웨어학과', '권순일', '0', 0, 0, '화목', '15:00-16:30', '음성 오디오처리 수업은 음성신호를 분석하고 처리하는 기술을 다루며, 음성인식, 음성합성, 음성인식 등 다양한 응용분야에 대한 이론과 실무를 다룹니다. 학생들은 디지털 신호처리와 머신러닝 알고리즘을 활용하여 음성데이터를 다루는 기술을 습득하게 됩니다.')\n",
      "(4662, '소프트웨어학과', '센B112', 3, '005910', 1, '데이터베이스프로그래밍', '', '전선', '', 3, '학사', '소프트웨어학과', '변재욱', '0', 0, 0, '화목', '10:30-12:00', '데이터베이스프로그래밍 수업은 데이터베이스 시스템을 활용하여 데이터를 저장, 수정, 검색하는 방법을 배우는 과목입니다. SQL 쿼리문 작성 및 데이터 모델링에 대한 기초 지식을 습득할 수 있습니다.')\n",
      "(4665, '소프트웨어학과', '센B111', 3, '003281', 1, '컴퓨터그래픽스', '', '전선', '', 3, '학사', '소프트웨어학과', '박상일', '0', 0, 0, '월수', '12:00-13:30', '컴퓨터그래픽스 수업은 컴퓨터를 이용하여 다양한 이미지와 동영상을 만드는 기술을 배우는 수업입니다. 그래픽스 소프트웨어를 활용하여 창의적이고 시각적으로 매력적인 작품을 제작하는 방법을 익힐 수 있습니다.')\n",
      "(4668, '소프트웨어학과', '센B114', 3, '009961', 2, '선형대수및프로그래밍', '', '전선', '', 2, '학사', '소프트웨어학과', '이종원', '0', 1, 0, '화목', '13:30-15:00', '선형대수를 기반으로 하는 프로그래밍 기술을 학습하여 데이터 분석 및 머신러닝 분야에서의 문제 해결 능력을 향상시키는 수업입니다. 이론과 실습을 통해 선형대수의 개념을 이해하고 프로그래밍을 통해 응용하는 방법을 배울 수 있습니다.')\n",
      "(4671, '소프트웨어학과', '센B114', 3, '009961', 1, '선형대수및프로그래밍', '', '전선', '', 2, '학사', '소프트웨어학과', '이종원', '0', 1, 0, '화목', '12:00-13:30', '선형대수를 기반으로 하는 프로그래밍 기술을 학습하여 데이터 분석 및 머신러닝 분야에서의 문제 해결 능력을 향상시키는 수업입니다. 이론과 실습을 통해 선형대수의 개념을 이해하고 프로그래밍을 통해 응용하는 방법을 배울 수 있습니다.')\n",
      "(4688, '소프트웨어학과', '센B111', 3, '009913', 2, '고급C프로그래밍및실습', '', '전기', '', 1, '학사', '소프트웨어학과', '김천식', '0', 0, 0, '금', '16:30-18:30', '고급C프로그래밍및실습은 C언어를 활용한 고급 프로그래밍 기술을 학습하고, 실제 프로젝트를 통해 응용력을 향상시키는 수업입니다. C언어의 고급 기능과 프로그래밍 기법을 익히며 다양한 실습을 통해 실무에 적용할 수 있는 능력을 키우는 과정입니다.')\n",
      "(4689, '소프트웨어학과', '센B112', 3, '009913', 1, '고급C프로그래밍및실습', '', '전기', '', 1, '학사', '소프트웨어학과', '김천식', '0', 0, 0, '목', '13:00-15:00', '고급C프로그래밍및실습은 C언어를 활용한 고급 프로그래밍 기술을 학습하고, 실제 프로젝트를 통해 응용력을 향상시키는 수업입니다. C언어의 고급 기능과 프로그래밍 기법을 익히며 다양한 실습을 통해 실무에 적용할 수 있는 능력을 키우는 과정입니다.')\n",
      "(4695, '소프트웨어학과', '센B114', 3, '001725', 1, '선형대수', '', '전기', '', 1, '학사', '소프트웨어학과', '이종원', '0', 0, 1, '월수', '15:00-16:30', '선형대수는 벡터, 행렬, 선형변환 등을 연구하는 수학의 한 분야로, 다양한 분야에서 활용되는 중요한 개념들을 다룹니다. 선형대수는 현대 수학의 기초가 되는 중요한 이론으로, 컴퓨터 공학, 물리학, 통계학 등 다양한 분야에 응용됩니다.')\n",
      "(4698, '소프트웨어학과', '센B111', 3, '000304', 2, '공업수학1', '영어', '전기', '', 1, '학사', '소프트웨어학과', 'Al-antari Mugahed Ali Shawqi', '0', 1, 1, '화목', '10:30-12:00', '공업수학1은 공학 분야에서 필요한 수학적 개념과 이론을 다루는 과목으로, 미적분학과 선형대수학 등을 중심으로 학습합니다. 엔지니어링 계산과 문제 해결을 위한 수학적 기초를 다지는데 중점이 있습니다.')\n",
      "(4701, '소프트웨어학과', '센B111', 3, '000304', 1, '공업수학1', '영어', '전기', '', 1, '학사', '소프트웨어학과', 'Al-antari Mugahed Ali Shawqi', '0', 1, 1, '화목', '09:00-10:30', '공업수학1은 공학 분야에서 필요한 수학적 개념과 이론을 다루는 과목으로, 미적분학과 선형대수학 등을 중심으로 학습합니다. 엔지니어링 계산과 문제 해결을 위한 수학적 기초를 다지는데 중점이 있습니다.')\n",
      "(4704, '소프트웨어학과', '집302', 1, '011839', 2, '세종인을위한전공탐색', '', '공필', '', 1, '학사', '소프트웨어학과', '최준연', '0', 0, 0, '월', '18:00-19:00', '세종인들을 위해 다양한 전공 영역을 탐색하고 선택하는 과정을 도와주는 수업입니다. 학생들이 자신에게 맞는 전공을 찾아가는데 도움을 줄 것입니다.')\n"
     ]
    }
   ],
   "source": [
    "connection = pymysql.connect(\n",
    "    host=os.getenv('DB_HOST'),\n",
    "    port=int(os.getenv('DB_PORT')),\n",
    "    user=os.getenv('DB_USER'),\n",
    "    password=os.getenv('DB_PASSWORD'),\n",
    "    db=os.getenv('DB_NAME')\n",
    ")\n",
    "cursor = connection.cursor()\n",
    "\n",
    "user_id = 'lee08tain'\n",
    "query = f\"\"\"SELECT * FROM courses WHERE department_major='소프트웨어학과'\"\"\"\n",
    "cursor.execute(query)\n",
    "data = cursor.fetchall()\n",
    "for row in data:\n",
    "    print(row)"
   ]
  },
  {
   "cell_type": "code",
   "execution_count": 1,
   "metadata": {},
   "outputs": [
    {
     "name": "stdout",
     "output_type": "stream",
     "text": [
      "Based on the provided competencies scores:\n",
      "\n",
      "1. AI Capabilities Score: 9\n",
      "2. Language Capabilities Score: 7 (Improvement Area)\n",
      "3. Server Capabilities Score: 6 (Improvement Area)\n",
      "4. Computer Science Capabilities Score: 5 (Improvement Area)\n",
      "5. Data Science Capabilities Score: 6 (Improvement Area)\n",
      "6. Algorithm Capabilities Score: 7 (Improvement Area)\n",
      "\n",
      "Here are tailored recommendations for improvement in each area:\n",
      "\n",
      "1. Language Capabilities Score (7):\n",
      "   - Strengthen text processing skills and natural language understanding.\n",
      "   - Focus on learning NLP applications and text tokenization using libraries like NLTK or spaCy.\n",
      "   - Practice on projects involving sentiment analysis or text classification.\n",
      "\n",
      "2. Server Capabilities Score (6):\n",
      "   - Improve server management and networking basics.\n",
      "   - Utilize online labs on AWS or Google Cloud for practical experience in server setup and network configuration.\n",
      "   - Study HTTP protocols and basic security measures through platforms like Udacity.\n",
      "\n",
      "3. Computer Science Capabilities Score (5):\n",
      "   - Enhance knowledge in data structures and fundamental programming principles.\n",
      "   - Complete exercises on platforms like LeetCode or HackerRank to strengthen algorithmic skills.\n",
      "   - Review algorithms and data structures through video tutorials on fundamental concepts.\n",
      "\n",
      "4. Data Science Capabilities Score (6):\n",
      "   - Develop a deeper understanding of data analysis and visualization techniques.\n",
      "   - Consider taking courses on platforms like DataCamp or edX focusing on statistics, data cleaning, and visualization in Python.\n",
      "   - Practice analyzing datasets on platforms like Kaggle to build practical data science skills.\n",
      "\n",
      "By focusing on these specific areas for improvement, you can enhance the overall capabilities of the software and become more proficient in various aspects of AI, language processing, server management, computer science, data science, and algorithms.\n"
     ]
    }
   ],
   "source": [
    "a=\"Based on the provided competencies scores:\\n\\n1. AI Capabilities Score: 9\\n2. Language Capabilities Score: 7 (Improvement Area)\\n3. Server Capabilities Score: 6 (Improvement Area)\\n4. Computer Science Capabilities Score: 5 (Improvement Area)\\n5. Data Science Capabilities Score: 6 (Improvement Area)\\n6. Algorithm Capabilities Score: 7 (Improvement Area)\\n\\nHere are tailored recommendations for improvement in each area:\\n\\n1. Language Capabilities Score (7):\\n   - Strengthen text processing skills and natural language understanding.\\n   - Focus on learning NLP applications and text tokenization using libraries like NLTK or spaCy.\\n   - Practice on projects involving sentiment analysis or text classification.\\n\\n2. Server Capabilities Score (6):\\n   - Improve server management and networking basics.\\n   - Utilize online labs on AWS or Google Cloud for practical experience in server setup and network configuration.\\n   - Study HTTP protocols and basic security measures through platforms like Udacity.\\n\\n3. Computer Science Capabilities Score (5):\\n   - Enhance knowledge in data structures and fundamental programming principles.\\n   - Complete exercises on platforms like LeetCode or HackerRank to strengthen algorithmic skills.\\n   - Review algorithms and data structures through video tutorials on fundamental concepts.\\n\\n4. Data Science Capabilities Score (6):\\n   - Develop a deeper understanding of data analysis and visualization techniques.\\n   - Consider taking courses on platforms like DataCamp or edX focusing on statistics, data cleaning, and visualization in Python.\\n   - Practice analyzing datasets on platforms like Kaggle to build practical data science skills.\\n\\nBy focusing on these specific areas for improvement, you can enhance the overall capabilities of the software and become more proficient in various aspects of AI, language processing, server management, computer science, data science, and algorithms.\"\n",
    "print(a)"
   ]
  },
  {
   "cell_type": "code",
   "execution_count": null,
   "metadata": {},
   "outputs": [],
   "source": []
  }
 ],
 "metadata": {
  "kernelspec": {
   "display_name": "llama",
   "language": "python",
   "name": "python3"
  },
  "language_info": {
   "codemirror_mode": {
    "name": "ipython",
    "version": 3
   },
   "file_extension": ".py",
   "mimetype": "text/x-python",
   "name": "python",
   "nbconvert_exporter": "python",
   "pygments_lexer": "ipython3",
   "version": "3.9.19"
  }
 },
 "nbformat": 4,
 "nbformat_minor": 2
}
