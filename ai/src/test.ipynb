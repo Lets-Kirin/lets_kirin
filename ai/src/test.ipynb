{
 "cells": [
  {
   "cell_type": "code",
   "execution_count": null,
   "metadata": {},
   "outputs": [
    {
     "name": "stdout",
     "output_type": "stream",
     "text": [
      "\n",
      "        SELECT courseNumber, sectionNumber, courseName, courseClassification, courseDescription, professorName, courseDay, courseTime, credits\n",
      "        FROM courses\n",
      "        WHERE\n",
      "        (\n",
      "        (\n",
      "            yearSemester='2'\n",
      "            AND courseClassification NOT IN ('전선', '전필', '공필')\n",
      "            AND courseName IN ('미적분학1', '공업수학1', '선형대수', '일반물리및시뮬레이션', '이산수학및프로그래밍', '통계학개론')\n",
      "        )\n",
      "        OR\n",
      "        (\n",
      "            department_major='소프트웨어학과'\n",
      "            AND yearSemester='2'\n",
      "        )\n",
      "        )\n",
      "        AND NOT (\n",
      "            courseDay LIKE '%목%'\n",
      "            AND STR_TO_DATE(SUBSTRING_INDEX(courseTime, '-', -1), '%H:%i') > STR_TO_DATE('9:00', '%H:%i')\n",
      "            AND STR_TO_DATE(SUBSTRING_INDEX(courseTime, '-', 1), '%H:%i') < STR_TO_DATE('11:00', '%H:%i')\n",
      "        )AND NOT (\n",
      "            courseDay LIKE '%수금%'\n",
      "            AND STR_TO_DATE(SUBSTRING_INDEX(courseTime, '-', -1), '%H:%i') > STR_TO_DATE('10:30', '%H:%i')\n",
      "            AND STR_TO_DATE(SUBSTRING_INDEX(courseTime, '-', 1), '%H:%i') < STR_TO_DATE('12:00', '%H:%i')\n",
      "        )AND NOT (\n",
      "            courseDay LIKE '%월수%'\n",
      "            AND STR_TO_DATE(SUBSTRING_INDEX(courseTime, '-', -1), '%H:%i') > STR_TO_DATE('10:30', '%H:%i')\n",
      "            AND STR_TO_DATE(SUBSTRING_INDEX(courseTime, '-', 1), '%H:%i') < STR_TO_DATE('12:00', '%H:%i')\n",
      "        )\n",
      "AND courseDay NOT Like '%월%'\n",
      "        \n"
     ]
    }
   ],
   "source": [
    "from utils import QueryLoader\n",
    "dummy = {\n",
    "\t\"coursePriority\" : \n",
    "\t[ \n",
    "\t\t{\n",
    "\t\t\t\"courseName\" : \"서양철학의이해\",\n",
    "\t\t\t\"courseNumber\" : \"009357\",\n",
    "            \"sectionNumber\" : \"1\",\n",
    "\t\t\t\"professorName\" : \"David M Hindman\",\n",
    "\t\t\t\"courseTime\" : \"10:30-12:00\",\n",
    "\t\t\t\"courseDay\" : \"수금\",\n",
    "\t\t}, \n",
    "\t\t{\n",
    "\t\t\t\"courseName\" : \"한국전통문화의이해\",\n",
    "\t\t\t\"courseNumber\" : \"009356\",\n",
    "            \"sectionNumber\" : \"4\",\n",
    "\t\t\t\"professorName\" : \"시지은\",\n",
    "\t\t\t\"courseTime\" : \"10:30-12:00\",\n",
    "\t\t\t\"courseDay\" : \"월수\",\n",
    "\t\t}, \n",
    "\t],\n",
    "\t\"timeoff\" :\n",
    "\t[\n",
    "\t\t{\n",
    "\t\t\t\"day\" : \"목\",\n",
    "\t\t\t\"time\" : \"9:00-11:00\"\n",
    "\t\t},\n",
    "\t],\n",
    "\t\"dayoff\" : [\"월\"],\n",
    "    \"department\" : \"소프트웨어학과\",\n",
    "    \"semester\" : 2,\n",
    "\t\"credit\" : 21,\n",
    "}\n",
    "\n",
    "loader = QueryLoader(dummy['coursePriority'], dummy['timeoff'], dummy['dayoff'], dummy['department'], dummy['semester'])\n",
    "print(loader.main_query)"
   ]
  },
  {
   "cell_type": "code",
   "execution_count": 2,
   "metadata": {},
   "outputs": [
    {
     "name": "stdout",
     "output_type": "stream",
     "text": [
      "\n",
      "        SELECT courseNumber, sectionNumber, courseName, courseClassification, courseDescription, professorName, courseDay, courseTime, credits\n",
      "        FROM courses\n",
      "        WHERE\n",
      "            (\n",
      "                courseName = '서양철학의이해'\n",
      "                AND courseNumber = '009357'\n",
      "                AND sectionNumber = '1'\n",
      "                AND professorName = 'David M Hindman'\n",
      "            )\n",
      "            OR\n",
      "            (\n",
      "                courseName = '한국전통문화의이해'\n",
      "                AND courseNumber = '009356'\n",
      "                AND sectionNumber = '4'\n",
      "                AND professorName = '시지은'\n",
      "            )\n",
      "           \n"
     ]
    }
   ],
   "source": [
    "print(loader.priority_course_query)\n"
   ]
  },
  {
   "cell_type": "code",
   "execution_count": 3,
   "metadata": {},
   "outputs": [
    {
     "name": "stdout",
     "output_type": "stream",
     "text": [
      "009993 | 2 | SW설계기초(산학프로젝트입문) | 전필 | 소프트웨어 설계의 기초를 학습하며 산업계에서의 프로젝트에 대한 입문을 경험하는 수업입니다. 실무에서 활용되는 SW 설계 방법론과 프로젝트 관리 기술을 습득하고자 하는 학생들을 위한 과목입니다. | 정승화 | 화목 | 16:30-18:00 | 3\n",
      "009993 | 1 | SW설계기초(산학프로젝트입문) | 전필 | 소프트웨어 설계의 기초를 학습하며 산업계에서의 프로젝트에 대한 입문을 경험하는 수업입니다. 실무에서 활용되는 SW 설계 방법론과 프로젝트 관리 기술을 습득하고자 하는 학생들을 위한 과목입니다. | 정승화 | 화목 | 15:00-16:30 | 3\n",
      "009954 | 2 | 알고리즘및실습 | 전필 | 이 수업은 알고리즘 이론을 학습하고 다양한 문제에 적용하는데 초점을 맞춥니다. 학생들은 이론을 바탕으로 실제 코딩 실습을 통해 문제 해결 능력을 향상시킬 수 있습니다. | 송오영 | 수 | 16:30-18:30 | 3\n",
      "009961 | 2 | 선형대수및프로그래밍 | 전선 | 선형대수를 기반으로 하는 프로그래밍 기술을 학습하여 데이터 분석 및 머신러닝 분야에서의 문제 해결 능력을 향상시키는 수업입니다. 이론과 실습을 통해 선형대수의 개념을 이해하고 프로그래밍을 통해 응용하는 방법을 배울 수 있습니다. | 이종원 | 화목 | 13:30-15:00 | 3\n",
      "009961 | 1 | 선형대수및프로그래밍 | 전선 | 선형대수를 기반으로 하는 프로그래밍 기술을 학습하여 데이터 분석 및 머신러닝 분야에서의 문제 해결 능력을 향상시키는 수업입니다. 이론과 실습을 통해 선형대수의 개념을 이해하고 프로그래밍을 통해 응용하는 방법을 배울 수 있습니다. | 이종원 | 화목 | 12:00-13:30 | 3\n",
      "003353 | 3 | 통계학개론 | 기필 | 통계학개론은 데이터를 수집, 분석하고 해석하는 기초적인 통계 지식을 다루는 수업입니다. 주어진 자료를 효율적으로 다루어 의사 결정을 내릴 수 있는 능력을 키웁니다. | 정슬기 | 화목 | 13:30-15:00 | 3\n",
      "009357 | 1 | 서양철학의이해 | 공필 | 서양철학의이해 수업은 서양 철학사를 통해 철학적 사고의 전통과 주요 이론들을 탐구하며, 철학적 사고 능력을 향상시키는 수업입니다. 서양 철학의 주요 사상가들과 작품들을 통해 인간 존재와 세계에 대한 깊은 이해를 도모합니다. | David M Hindman | 수금 | 10:30-12:00 | 3\n",
      "\n"
     ]
    }
   ],
   "source": [
    "print(loader.get_data())"
   ]
  },
  {
   "cell_type": "code",
   "execution_count": null,
   "metadata": {},
   "outputs": [],
   "source": []
  },
  {
   "cell_type": "code",
   "execution_count": null,
   "metadata": {},
   "outputs": [],
   "source": []
  }
 ],
 "metadata": {
  "kernelspec": {
   "display_name": "llama",
   "language": "python",
   "name": "python3"
  },
  "language_info": {
   "codemirror_mode": {
    "name": "ipython",
    "version": 3
   },
   "file_extension": ".py",
   "mimetype": "text/x-python",
   "name": "python",
   "nbconvert_exporter": "python",
   "pygments_lexer": "ipython3",
   "version": "3.9.19"
  }
 },
 "nbformat": 4,
 "nbformat_minor": 2
}
